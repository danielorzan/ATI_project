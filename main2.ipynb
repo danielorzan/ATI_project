{
 "cells": [
  {
   "cell_type": "code",
   "execution_count": null,
   "metadata": {},
   "outputs": [],
   "source": [
    "# REQUIREMENTS\n",
    "# pip install devtools\n",
    "# pip install specklepy\n",
    "# pip install requests-toolbelt\n",
    "# pip install websockets"
   ]
  },
  {
   "cell_type": "code",
   "execution_count": 1,
   "metadata": {},
   "outputs": [],
   "source": [
    "import ujson as json\n",
    "from devtools import debug\n",
    "from specklepy.api import operations\n",
    "from specklepy.api.client import SpeckleClient\n",
    "from specklepy.api.credentials import get_default_account\n",
    "from specklepy.api.wrapper import StreamWrapper\n",
    "\n",
    "from specklepy.transports.server import ServerTransport\n",
    "from specklepy.transports.memory import MemoryTransport\n",
    "from specklepy.transports.sqlite import SQLiteTransport"
   ]
  },
  {
   "cell_type": "code",
   "execution_count": null,
   "metadata": {},
   "outputs": [],
   "source": []
  },
  {
   "cell_type": "code",
   "execution_count": 22,
   "metadata": {},
   "outputs": [],
   "source": [
    "from specklepy.api.client import SpeckleClient\n",
    "from specklepy.api.credentials import get_default_account\n",
    "\n",
    "# initialise the client\n",
    "client = SpeckleClient(host=\"https://speckle.xyz\") # or whatever your host is\n",
    "# client = SpeckleClient(host=\"localhost:3000\", use_ssl=False) or use local server\n",
    "\n",
    "# authenticate the client with a token\n",
    "# account = get_default_account()\n",
    "# client.authenticate_with_token(\"8349dc1b415baafb37d91c244867dc5c5a6f0412d8\") # python token\n",
    "client.authenticate_with_token(\"0ca1b861abd574e214446e26335e8772f1a4c09ad4\") # python2 token\n",
    "\n",
    "# if you're in an environment without accounts, you can construct an Account object yourself\n",
    "# or authenticate with just a token\n",
    "# client.authenticate_with_token(\"YOUR_TOKEN\")"
   ]
  },
  {
   "cell_type": "code",
   "execution_count": 17,
   "metadata": {},
   "outputs": [],
   "source": [
    "from specklepy.api.credentials import get_default_account, get_local_accounts\n",
    "all_accounts = get_local_accounts() # get back a list"
   ]
  },
  {
   "cell_type": "code",
   "execution_count": 18,
   "metadata": {},
   "outputs": [
    {
     "data": {
      "text/plain": [
       "[Account(email: orzan.daniel@yahoo.it, server: https://speckle.xyz, isDefault: True)]"
      ]
     },
     "execution_count": 18,
     "metadata": {},
     "output_type": "execute_result"
    }
   ],
   "source": [
    "all_accounts"
   ]
  },
  {
   "cell_type": "code",
   "execution_count": 23,
   "metadata": {},
   "outputs": [],
   "source": [
    "# create a new stream. this returns the stream id\n",
    "new_stream_id = client.stream.create(name=\"a shiny new stream\")\n",
    "\n",
    "# use that stream id to get the stream from the server\n",
    "new_stream = client.stream.get(id=new_stream_id)"
   ]
  },
  {
   "cell_type": "code",
   "execution_count": 24,
   "metadata": {},
   "outputs": [],
   "source": [
    "from specklepy.objects import Base\n",
    "from specklepy.objects.geometry import Point\n",
    "\n",
    "class Block(Base):\n",
    "    length: float\n",
    "    width: float\n",
    "    height: float\n",
    "    origin: Point = None\n",
    "\n",
    "    def __init__(self, length=1.0, width=1.0, height=1.0, origin=Point(), **kwargs) -> None:\n",
    "        super().__init__(**kwargs)\n",
    "        # mark the origin as a detachable attribute\n",
    "        self.add_detachable_attrs({\"origin\"})\n",
    "\n",
    "        self.length = length\n",
    "        self.width = width\n",
    "        self.height = height\n",
    "        self.origin = origin"
   ]
  },
  {
   "cell_type": "code",
   "execution_count": 25,
   "metadata": {},
   "outputs": [],
   "source": [
    "from specklepy.transports.server import ServerTransport\n",
    "from specklepy.api import operations\n",
    "\n",
    "# here's the data you want to send\n",
    "block = Block(length=2, height=4)\n",
    "\n",
    "# next create a server transport - this is the vehicle through which you will send and receive\n",
    "transport = ServerTransport(client=client, stream_id=new_stream_id)\n",
    "\n",
    "# this serialises the block and sends it to the transport\n",
    "hash = operations.send(base=block, transports=[transport])\n",
    "\n",
    "# you can now create a commit on your stream with this object\n",
    "commid_id = client.commit.create(\n",
    "    stream_id=new_stream_id, \n",
    "    object_id=hash, \n",
    "    message=\"this is a block I made in speckle-py\",\n",
    "    )"
   ]
  },
  {
   "cell_type": "code",
   "execution_count": 26,
   "metadata": {},
   "outputs": [],
   "source": [
    "# this receives the object back from the transport.\n",
    "# the received data will be deserialised back into a `Block` \n",
    "received_base = operations.receive(obj_id=hash, remote_transport=transport)"
   ]
  },
  {
   "cell_type": "code",
   "execution_count": null,
   "metadata": {},
   "outputs": [],
   "source": []
  },
  {
   "cell_type": "code",
   "execution_count": 6,
   "metadata": {},
   "outputs": [],
   "source": [
    "from specklepy.api.wrapper import StreamWrapper\n",
    "\n",
    "# provide any stream, branch, commit, object, or globals url\n",
    "wrapper = StreamWrapper(\"https://speckle.xyz/streams/c4a1a7c48b/commits/50385f68d2\")\n",
    "\n",
    "# get an authenticated SpeckleClient if you have a local account for the server\n",
    "client = wrapper.get_client()\n",
    "\n",
    "# get an authenticated ServerTransport if you have a local account for the server\n",
    "transport = wrapper.get_transport()"
   ]
  },
  {
   "cell_type": "code",
   "execution_count": null,
   "metadata": {},
   "outputs": [],
   "source": []
  },
  {
   "cell_type": "code",
   "execution_count": 27,
   "metadata": {},
   "outputs": [
    {
     "data": {
      "text/plain": [
       "[Stream( id: c4a1a7c48b, name: OUH - Rooms, description: Rooms Management, isPublic: True)]"
      ]
     },
     "execution_count": 27,
     "metadata": {},
     "output_type": "execute_result"
    }
   ],
   "source": [
    "# get a list of your most recent streams\n",
    "stream_list = client.stream.list()\n",
    "stream_list"
   ]
  },
  {
   "cell_type": "code",
   "execution_count": null,
   "metadata": {},
   "outputs": [],
   "source": []
  },
  {
   "cell_type": "code",
   "execution_count": null,
   "metadata": {},
   "outputs": [],
   "source": []
  },
  {
   "cell_type": "code",
   "execution_count": null,
   "metadata": {},
   "outputs": [],
   "source": []
  }
 ],
 "metadata": {
  "kernelspec": {
   "display_name": "Python 3.9.13 64-bit (microsoft store)",
   "language": "python",
   "name": "python3"
  },
  "language_info": {
   "codemirror_mode": {
    "name": "ipython",
    "version": 3
   },
   "file_extension": ".py",
   "mimetype": "text/x-python",
   "name": "python",
   "nbconvert_exporter": "python",
   "pygments_lexer": "ipython3",
   "version": "3.9.13"
  },
  "orig_nbformat": 4,
  "vscode": {
   "interpreter": {
    "hash": "3128b9de9697873323ebd76cd86797917715b88e1e1435715dd2e70c4bff8506"
   }
  }
 },
 "nbformat": 4,
 "nbformat_minor": 2
}
