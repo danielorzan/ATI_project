{
 "cells": [
  {
   "cell_type": "code",
   "execution_count": 3,
   "metadata": {},
   "outputs": [],
   "source": [
    "import sqlite3\n",
    "\n",
    "def get_table_names(file_path):\n",
    "    \n",
    "    # Create a SQL connection to our SQLite database\n",
    "    con = sqlite3.connect(file_path)\n",
    "\n",
    "    # creating cursor\n",
    "    cur = con.cursor()\n",
    "\n",
    "    # reading all table names\n",
    "    table_list = [a for a in cur.execute(\"SELECT name FROM sqlite_master WHERE type = 'table' OR type = 'view'\")]\n",
    "\n",
    "    # Be sure to close the connection\n",
    "    con.close()\n",
    "\n",
    "    table_names = [name[0] for name in table_list]\n",
    "\n",
    "    return table_names\n",
    "\n",
    "\n",
    "def print_data(file_path, table_name = None):\n",
    "    \n",
    "    if table_name is None:\n",
    "        table_names = get_table_names(file_path)\n",
    "\n",
    "        # Create a SQL connection to our SQLite database\n",
    "        con = sqlite3.connect(file_path)\n",
    "\n",
    "        cur = con.cursor()\n",
    "\n",
    "        # The result of a \"cursor.execute\" can be iterated over by row\n",
    "        for name in table_names:\n",
    "            if name == 'ElementaryGeometries' or name == 'SpatialIndex':\n",
    "                continue\n",
    "            sql_command = \"SELECT * FROM \" + name\n",
    "            print(name)\n",
    "            for row in cur.execute(sql_command):\n",
    "                print(row)\n",
    "            print('\\n\\n')\n",
    "\n",
    "        # Be sure to close the connection\n",
    "        con.close()\n",
    "    \n",
    "    else:\n",
    "        # Create a SQL connection to our SQLite database\n",
    "        con = sqlite3.connect(file_path)\n",
    "\n",
    "        cur = con.cursor()\n",
    "\n",
    "        # The result of a \"cursor.execute\" can be iterated over by row\n",
    "        sql_command = \"SELECT * FROM \" + table_name\n",
    "        print(table_name)\n",
    "        for row in cur.execute(sql_command):\n",
    "            print(row)\n",
    "\n",
    "        # Be sure to close the connection\n",
    "        con.close()"
   ]
  },
  {
   "cell_type": "code",
   "execution_count": 23,
   "metadata": {},
   "outputs": [
    {
     "name": "stdout",
     "output_type": "stream",
     "text": [
      "['__EFMigrationsHistory', 'spatial_ref_sys', 'spatialite_history', 'sqlite_sequence', 'geometry_columns', 'geom_cols_ref_sys', 'spatial_ref_sys_aux', 'spatial_ref_sys_all', 'views_geometry_columns', 'virts_geometry_columns', 'geometry_columns_statistics', 'views_geometry_columns_statistics', 'virts_geometry_columns_statistics', 'geometry_columns_field_infos', 'views_geometry_columns_field_infos', 'virts_geometry_columns_field_infos', 'geometry_columns_time', 'geometry_columns_auth', 'views_geometry_columns_auth', 'virts_geometry_columns_auth', 'vector_layers', 'vector_layers_auth', 'vector_layers_statistics', 'vector_layers_field_infos', 'sql_statements_log', 'SpatialIndex', 'ElementaryGeometries', 'Project', 'Document', 'DocumentParameter', 'Element', 'Workset', 'ElementParameterInteger', 'ElementParameterNumber', 'ElementParameterRevitId', 'ElementParameterText', 'LevelTypeElements', 'LevelElements', 'ModelLineElements', 'RoomElements']\n"
     ]
    }
   ],
   "source": [
    "a = get_table_names(r\"\\Users\\Administrator\\Downloads\\DP08_XX_K01_C07_F2_N001.db\")\n",
    "len(a)\n",
    "print(a)"
   ]
  },
  {
   "cell_type": "code",
   "execution_count": 1,
   "metadata": {},
   "outputs": [],
   "source": [
    "import sqlite3\n",
    "\n",
    "def initialize(file_path):\n",
    "    \n",
    "    # Create a SQL connection to our SQLite database\n",
    "    # returns connection and cursor\n",
    "\n",
    "    con = sqlite3.connect(file_path)\n",
    "    cur = con.cursor()\n",
    "    print('Opening connection')\n",
    "\n",
    "    return cur, con\n",
    "\n",
    "\n",
    "def finilize(con):\n",
    "\n",
    "    # Closes SQL connection\n",
    "\n",
    "    con.close()\n",
    "    print('Closing connection')"
   ]
  },
  {
   "cell_type": "code",
   "execution_count": 6,
   "metadata": {},
   "outputs": [],
   "source": [
    "def work(file_path, sql):\n",
    "    \n",
    "    cur, con = initialize(file_path)\n",
    "    out = cur.execute(sql)\n",
    "    print('SQL done')\n",
    "    \n",
    "    table_list = [a[0] for a in out] #why do I get ordered output sometimes???\n",
    "    print('Work completed')\n",
    "\n",
    "    finilize(con)\n",
    "\n",
    "    return table_list"
   ]
  },
  {
   "cell_type": "code",
   "execution_count": 10,
   "metadata": {},
   "outputs": [
    {
     "name": "stdout",
     "output_type": "stream",
     "text": [
      "Opening connection\n",
      "SQL done\n",
      "Work completed\n",
      "Closing connection\n",
      "[411.04770086900044, 1478.7482757795442, 1071.8324017396244, 3686.413271557628, 222.6724220989704, 575.1817269431986, 355.6055593861197, 554.7101625277137, 527.8862984124022, 420.27662310201276]\n"
     ]
    }
   ],
   "source": [
    "sql = \"SELECT DISTINCT Area FROM RoomElements LIMIT 10\"\n",
    "table_list = work(r\"\\Users\\Administrator\\Downloads\\DP08_XX_K01_C07_F2_N001.db\", sql)\n",
    "\n",
    "print(table_list)"
   ]
  },
  {
   "cell_type": "code",
   "execution_count": 37,
   "metadata": {},
   "outputs": [],
   "source": [
    "import sqlite3\n",
    "\n",
    "def generate_docs(db, docs, title):\n",
    "    # open doc file and define table template\n",
    "    f = open(docs, \"w+\")\n",
    "    f.write(title + \"\\n\")\n",
    "    table_template = \"|{}|{}|\\n| :-: | :-:|\\n\".format(\"COLUMN\", \"DESCRIPTION\")\n",
    "    # open database\n",
    "    con = sqlite3.connect(db)\n",
    "    cur = con.cursor()\n",
    "    cur.execute(\"SELECT name FROM sqlite_master WHERE type='view';\")\n",
    "    for table in cur.fetchall():\n",
    "        # print table name\n",
    "        table_name = table[0].upper()\n",
    "        f.write(\"### {}\\n\".format(table_name))\n",
    "        f.write(table_template)\n",
    "        if table_name == 'ELEMENTARYGEOMETRIES' or table_name == 'SPATIALINDEX':\n",
    "            continue\n",
    "        # print table columns\n",
    "        cur.execute(\"SELECT * FROM {};\".format(table_name))\n",
    "        cols = [description[0] for description in cur.description]\n",
    "        for col in cols:\n",
    "            f.write(\"| {} | |\\n\".format(col))\n",
    "    f.close()\n",
    "\n",
    "\n",
    "generate_docs(r\"\\Users\\Administrator\\Downloads\\DP08_XX_K01_C07_F2_N001.db\", \"db_template_views.md\",\n",
    "              \"Room schema\")"
   ]
  },
  {
   "cell_type": "code",
   "execution_count": 16,
   "metadata": {},
   "outputs": [
    {
     "name": "stdout",
     "output_type": "stream",
     "text": [
      "SpatialIndex\n"
     ]
    },
    {
     "ename": "OperationalError",
     "evalue": "no such module: VirtualSpatialIndex",
     "output_type": "error",
     "traceback": [
      "\u001b[0;31m---------------------------------------------------------------------------\u001b[0m",
      "\u001b[0;31mOperationalError\u001b[0m                          Traceback (most recent call last)",
      "\u001b[0;32m/var/folders/0x/n2mvcwfx3559zx27ptg51clh0000gn/T/ipykernel_64894/2201741703.py\u001b[0m in \u001b[0;36m<module>\u001b[0;34m\u001b[0m\n\u001b[1;32m      1\u001b[0m \u001b[0;31m# issue with SpatialIndex and ElementaryGeometries\u001b[0m\u001b[0;34m\u001b[0m\u001b[0;34m\u001b[0m\u001b[0m\n\u001b[0;32m----> 2\u001b[0;31m \u001b[0mprint_data\u001b[0m\u001b[0;34m(\u001b[0m\u001b[0;34m'/Users/danielorzan/Desktop/ATIproject/DP08_XX_K01_C07_F2_N001.db'\u001b[0m\u001b[0;34m,\u001b[0m \u001b[0;34m'SpatialIndex'\u001b[0m\u001b[0;34m)\u001b[0m\u001b[0;34m\u001b[0m\u001b[0;34m\u001b[0m\u001b[0m\n\u001b[0m",
      "\u001b[0;32m/var/folders/0x/n2mvcwfx3559zx27ptg51clh0000gn/T/ipykernel_64894/2806636473.py\u001b[0m in \u001b[0;36mprint_data\u001b[0;34m(file_path, table_name)\u001b[0m\n\u001b[1;32m     52\u001b[0m         \u001b[0msql_command\u001b[0m \u001b[0;34m=\u001b[0m \u001b[0;34m\"SELECT * FROM \"\u001b[0m \u001b[0;34m+\u001b[0m \u001b[0mtable_name\u001b[0m\u001b[0;34m\u001b[0m\u001b[0;34m\u001b[0m\u001b[0m\n\u001b[1;32m     53\u001b[0m         \u001b[0mprint\u001b[0m\u001b[0;34m(\u001b[0m\u001b[0mtable_name\u001b[0m\u001b[0;34m)\u001b[0m\u001b[0;34m\u001b[0m\u001b[0;34m\u001b[0m\u001b[0m\n\u001b[0;32m---> 54\u001b[0;31m         \u001b[0;32mfor\u001b[0m \u001b[0mrow\u001b[0m \u001b[0;32min\u001b[0m \u001b[0mcur\u001b[0m\u001b[0;34m.\u001b[0m\u001b[0mexecute\u001b[0m\u001b[0;34m(\u001b[0m\u001b[0msql_command\u001b[0m\u001b[0;34m)\u001b[0m\u001b[0;34m:\u001b[0m\u001b[0;34m\u001b[0m\u001b[0;34m\u001b[0m\u001b[0m\n\u001b[0m\u001b[1;32m     55\u001b[0m             \u001b[0mprint\u001b[0m\u001b[0;34m(\u001b[0m\u001b[0mrow\u001b[0m\u001b[0;34m)\u001b[0m\u001b[0;34m\u001b[0m\u001b[0;34m\u001b[0m\u001b[0m\n\u001b[1;32m     56\u001b[0m \u001b[0;34m\u001b[0m\u001b[0m\n",
      "\u001b[0;31mOperationalError\u001b[0m: no such module: VirtualSpatialIndex"
     ]
    }
   ],
   "source": [
    "# issue with SpatialIndex and ElementaryGeometries\n",
    "print_data(r\"\\Users\\Administrator\\Downloads\\DP08_XX_K01_C07_F2_N001.db\", 'SpatialIndex')"
   ]
  },
  {
   "cell_type": "code",
   "execution_count": 8,
   "metadata": {},
   "outputs": [],
   "source": [
    "import pymysql\n",
    "  \n",
    "def mysqlconnect():\n",
    "    # To connect MySQL database\n",
    "    conn = pymysql.connect(\n",
    "        host='192.168.2.140',\n",
    "        user='admin', \n",
    "        password = \"admin\",\n",
    "        db='db',\n",
    "        port=6606\n",
    "        )\n",
    "      \n",
    "    cur = conn.cursor()\n",
    "    cur.execute(\"select @@version\")\n",
    "    output = cur.fetchall()\n",
    "    print(output)\n",
    "      \n",
    "    # To close the connection\n",
    "    conn.close()"
   ]
  },
  {
   "cell_type": "code",
   "execution_count": 9,
   "metadata": {},
   "outputs": [
    {
     "name": "stdout",
     "output_type": "stream",
     "text": [
      "(('5.7.37',),)\n"
     ]
    }
   ],
   "source": [
    "mysqlconnect()"
   ]
  },
  {
   "cell_type": "code",
   "execution_count": 20,
   "metadata": {},
   "outputs": [],
   "source": [
    "#import os\n",
    "import pymysql\n",
    "import pandas as pd\n",
    "\n",
    "\"\"\" host = os.getenv('MYSQL_HOST')\n",
    "port = os.getenv('MYSQL_PORT')\n",
    "user = os.getenv('MYSQL_USER')\n",
    "password = os.getenv('MYSQL_PASSWORD')\n",
    "database = os.getenv('MYSQL_DATABASE')\n",
    " \"\"\"\n",
    "\n",
    "conn = pymysql.connect(\n",
    "    host='192.168.2.140',\n",
    "    user='admin', \n",
    "    password = \"admin\",\n",
    "    db='db',\n",
    "    port=6606\n",
    "    )\n",
    "\n",
    "#df = pd.read_sql_query(\"SELECT * FROM folders\", conn)"
   ]
  },
  {
   "cell_type": "code",
   "execution_count": 18,
   "metadata": {},
   "outputs": [
    {
     "data": {
      "text/html": [
       "<div>\n",
       "<style scoped>\n",
       "    .dataframe tbody tr th:only-of-type {\n",
       "        vertical-align: middle;\n",
       "    }\n",
       "\n",
       "    .dataframe tbody tr th {\n",
       "        vertical-align: top;\n",
       "    }\n",
       "\n",
       "    .dataframe thead th {\n",
       "        text-align: right;\n",
       "    }\n",
       "</style>\n",
       "<table border=\"1\" class=\"dataframe\">\n",
       "  <thead>\n",
       "    <tr style=\"text-align: right;\">\n",
       "      <th></th>\n",
       "      <th>table_name</th>\n",
       "    </tr>\n",
       "  </thead>\n",
       "  <tbody>\n",
       "    <tr>\n",
       "      <th>0</th>\n",
       "      <td>CHARACTER_SETS</td>\n",
       "    </tr>\n",
       "    <tr>\n",
       "      <th>1</th>\n",
       "      <td>COLLATIONS</td>\n",
       "    </tr>\n",
       "    <tr>\n",
       "      <th>2</th>\n",
       "      <td>COLLATION_CHARACTER_SET_APPLICABILITY</td>\n",
       "    </tr>\n",
       "    <tr>\n",
       "      <th>3</th>\n",
       "      <td>COLUMNS</td>\n",
       "    </tr>\n",
       "    <tr>\n",
       "      <th>4</th>\n",
       "      <td>COLUMN_PRIVILEGES</td>\n",
       "    </tr>\n",
       "    <tr>\n",
       "      <th>...</th>\n",
       "      <td>...</td>\n",
       "    </tr>\n",
       "    <tr>\n",
       "      <th>64</th>\n",
       "      <td>items</td>\n",
       "    </tr>\n",
       "    <tr>\n",
       "      <th>65</th>\n",
       "      <td>objects</td>\n",
       "    </tr>\n",
       "    <tr>\n",
       "      <th>66</th>\n",
       "      <td>projects</td>\n",
       "    </tr>\n",
       "    <tr>\n",
       "      <th>67</th>\n",
       "      <td>properties</td>\n",
       "    </tr>\n",
       "    <tr>\n",
       "      <th>68</th>\n",
       "      <td>versions</td>\n",
       "    </tr>\n",
       "  </tbody>\n",
       "</table>\n",
       "<p>69 rows × 1 columns</p>\n",
       "</div>"
      ],
      "text/plain": [
       "                               table_name\n",
       "0                          CHARACTER_SETS\n",
       "1                              COLLATIONS\n",
       "2   COLLATION_CHARACTER_SET_APPLICABILITY\n",
       "3                                 COLUMNS\n",
       "4                       COLUMN_PRIVILEGES\n",
       "..                                    ...\n",
       "64                                  items\n",
       "65                                objects\n",
       "66                               projects\n",
       "67                             properties\n",
       "68                               versions\n",
       "\n",
       "[69 rows x 1 columns]"
      ]
     },
     "execution_count": 18,
     "metadata": {},
     "output_type": "execute_result"
    }
   ],
   "source": [
    "pd.read_sql_query(\"SELECT table_name FROM information_schema.tables\", conn)"
   ]
  },
  {
   "cell_type": "code",
   "execution_count": null,
   "metadata": {},
   "outputs": [],
   "source": []
  }
 ],
 "metadata": {
  "interpreter": {
   "hash": "aee8b7b246df8f9039afb4144a1f6fd8d2ca17a180786b69acc140d282b71a49"
  },
  "kernelspec": {
   "display_name": "Python 3.9.10 64-bit",
   "language": "python",
   "name": "python3"
  },
  "language_info": {
   "codemirror_mode": {
    "name": "ipython",
    "version": 3
   },
   "file_extension": ".py",
   "mimetype": "text/x-python",
   "name": "python",
   "nbconvert_exporter": "python",
   "pygments_lexer": "ipython3",
   "version": "3.9.7"
  },
  "orig_nbformat": 4
 },
 "nbformat": 4,
 "nbformat_minor": 2
}
