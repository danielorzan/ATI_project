{
 "cells": [
  {
   "cell_type": "code",
   "execution_count": 2,
   "metadata": {},
   "outputs": [],
   "source": [
    "import sqlite3\n",
    "\n",
    "def get_table_names(file_path):\n",
    "    \n",
    "    # Create a SQL connection to our SQLite database\n",
    "    con = sqlite3.connect(file_path)\n",
    "\n",
    "    # creating cursor\n",
    "    cur = con.cursor()\n",
    "\n",
    "    # reading all table names\n",
    "    table_list = [a for a in cur.execute(\"SELECT name FROM sqlite_master WHERE type = 'table'\")]\n",
    "\n",
    "    # Be sure to close the connection\n",
    "    con.close()\n",
    "\n",
    "    table_names = [name[0] for name in table_list]\n",
    "\n",
    "    return table_names\n",
    "\n",
    "\n",
    "def print_data(file_path, table_name = None):\n",
    "    \n",
    "    if table_name is None:\n",
    "        table_names = get_table_names(file_path)\n",
    "\n",
    "        # Create a SQL connection to our SQLite database\n",
    "        con = sqlite3.connect(file_path)\n",
    "\n",
    "        cur = con.cursor()\n",
    "\n",
    "        # The result of a \"cursor.execute\" can be iterated over by row\n",
    "        for name in table_names:\n",
    "            if name == 'ElementaryGeometries' or name == 'SpatialIndex':\n",
    "                continue\n",
    "            sql_command = \"SELECT * FROM \" + name\n",
    "            print(name)\n",
    "            for row in cur.execute(sql_command):\n",
    "                print(row)\n",
    "            print('\\n\\n')\n",
    "\n",
    "        # Be sure to close the connection\n",
    "        con.close()\n",
    "    \n",
    "    else:\n",
    "        # Create a SQL connection to our SQLite database\n",
    "        con = sqlite3.connect(file_path)\n",
    "\n",
    "        cur = con.cursor()\n",
    "\n",
    "        # The result of a \"cursor.execute\" can be iterated over by row\n",
    "        sql_command = \"SELECT * FROM \" + table_name\n",
    "        print(table_name)\n",
    "        for row in cur.execute(sql_command):\n",
    "            print(row)\n",
    "\n",
    "        # Be sure to close the connection\n",
    "        con.close()\n",
    "\n",
    "\n",
    "def get_data(file_path, table_name = None):\n",
    "\n",
    "    table_names = get_table_names(file_path)\n",
    "\n",
    "    # Create a SQL connection to our SQLite database\n",
    "    con = sqlite3.connect(file_path)\n",
    "\n",
    "    cur = con.cursor()\n",
    "\n",
    "    # The result of a \"cursor.execute\" can be iterated over by row\n",
    "    for name in table_names:\n",
    "        #if name == 'ElementaryGeometries' or name == 'SpatialIndex':\n",
    "        #    continue\n",
    "        sql_command = \"SELECT * FROM \" + name\n",
    "        data_dict = {}\n",
    "        for row in cur.execute(sql_command):\n",
    "            print(row)\n",
    "        print('\\n\\n')\n",
    "\n",
    "    # Be sure to close the connection\n",
    "    con.close()"
   ]
  },
  {
   "cell_type": "code",
   "execution_count": null,
   "metadata": {},
   "outputs": [],
   "source": [
    "#trying git commit"
   ]
  },
  {
   "cell_type": "code",
   "execution_count": 11,
   "metadata": {},
   "outputs": [],
   "source": [
    "import sqlite3\n",
    "\n",
    "def generate_docs(db, docs, title):\n",
    "    # open doc file and define table template\n",
    "    f = open(docs, \"w+\")\n",
    "    f.write(title + \"\\n\")\n",
    "    table_template = \"|{}|{}|\\n| :-: | :-:|\\n\".format(\"COLUMN\", \"DESCRIPTION\")\n",
    "    # open database\n",
    "    con = sqlite3.connect(db)\n",
    "    cur = con.cursor()\n",
    "    cur.execute(\"SELECT name FROM sqlite_master WHERE type='table';\")\n",
    "    for table in cur.fetchall():\n",
    "        # print table name\n",
    "        table_name = table[0].upper()\n",
    "        f.write(\"### {}\\n\".format(table_name))\n",
    "        f.write(table_template)\n",
    "        if table_name == 'ELEMENTARYGEOMETRIES' or table_name == 'SPATIALINDEX':\n",
    "            continue\n",
    "        # print table columns\n",
    "        cur.execute(\"SELECT * FROM {};\".format(table_name))\n",
    "        cols = [description[0] for description in cur.description]\n",
    "        for col in cols:\n",
    "            f.write(\"| {} | |\\n\".format(col))\n",
    "    f.close()\n",
    "\n",
    "\n",
    "generate_docs(\"/Users/danielorzan/Desktop/ATIproject/DP08_XX_K01_C07_F2_N001.db\", \"db_template.md\",\n",
    "              \"Room schema\")"
   ]
  },
  {
   "cell_type": "code",
   "execution_count": 37,
   "metadata": {},
   "outputs": [
    {
     "name": "stdout",
     "output_type": "stream",
     "text": [
      "['__EFMigrationsHistory', 'spatial_ref_sys', 'spatialite_history', 'sqlite_sequence', 'geometry_columns', 'spatial_ref_sys_aux', 'views_geometry_columns', 'virts_geometry_columns', 'geometry_columns_statistics', 'views_geometry_columns_statistics', 'virts_geometry_columns_statistics', 'geometry_columns_field_infos', 'views_geometry_columns_field_infos', 'virts_geometry_columns_field_infos', 'geometry_columns_time', 'geometry_columns_auth', 'views_geometry_columns_auth', 'virts_geometry_columns_auth', 'sql_statements_log', 'SpatialIndex', 'ElementaryGeometries', 'Project', 'Document', 'DocumentParameter', 'Element', 'Workset', 'ElementParameterInteger', 'ElementParameterNumber', 'ElementParameterRevitId', 'ElementParameterText']\n"
     ]
    }
   ],
   "source": [
    "a = get_table_names('/Users/danielorzan/Desktop/ATIproject/DP08_XX_K01_C07_F2_N001.db')\n",
    "print(a)"
   ]
  },
  {
   "cell_type": "code",
   "execution_count": null,
   "metadata": {},
   "outputs": [],
   "source": [
    "print_data('/Users/danielorzan/Desktop/ATIproject/DP08_XX_K01_C07_F2_N001.db')"
   ]
  },
  {
   "cell_type": "code",
   "execution_count": 16,
   "metadata": {},
   "outputs": [
    {
     "name": "stdout",
     "output_type": "stream",
     "text": [
      "SpatialIndex\n"
     ]
    },
    {
     "ename": "OperationalError",
     "evalue": "no such module: VirtualSpatialIndex",
     "output_type": "error",
     "traceback": [
      "\u001b[0;31m---------------------------------------------------------------------------\u001b[0m",
      "\u001b[0;31mOperationalError\u001b[0m                          Traceback (most recent call last)",
      "\u001b[0;32m/var/folders/0x/n2mvcwfx3559zx27ptg51clh0000gn/T/ipykernel_64894/2201741703.py\u001b[0m in \u001b[0;36m<module>\u001b[0;34m\u001b[0m\n\u001b[1;32m      1\u001b[0m \u001b[0;31m# issue with SpatialIndex and ElementaryGeometries\u001b[0m\u001b[0;34m\u001b[0m\u001b[0;34m\u001b[0m\u001b[0m\n\u001b[0;32m----> 2\u001b[0;31m \u001b[0mprint_data\u001b[0m\u001b[0;34m(\u001b[0m\u001b[0;34m'/Users/danielorzan/Desktop/ATIproject/DP08_XX_K01_C07_F2_N001.db'\u001b[0m\u001b[0;34m,\u001b[0m \u001b[0;34m'SpatialIndex'\u001b[0m\u001b[0;34m)\u001b[0m\u001b[0;34m\u001b[0m\u001b[0;34m\u001b[0m\u001b[0m\n\u001b[0m",
      "\u001b[0;32m/var/folders/0x/n2mvcwfx3559zx27ptg51clh0000gn/T/ipykernel_64894/2806636473.py\u001b[0m in \u001b[0;36mprint_data\u001b[0;34m(file_path, table_name)\u001b[0m\n\u001b[1;32m     52\u001b[0m         \u001b[0msql_command\u001b[0m \u001b[0;34m=\u001b[0m \u001b[0;34m\"SELECT * FROM \"\u001b[0m \u001b[0;34m+\u001b[0m \u001b[0mtable_name\u001b[0m\u001b[0;34m\u001b[0m\u001b[0;34m\u001b[0m\u001b[0m\n\u001b[1;32m     53\u001b[0m         \u001b[0mprint\u001b[0m\u001b[0;34m(\u001b[0m\u001b[0mtable_name\u001b[0m\u001b[0;34m)\u001b[0m\u001b[0;34m\u001b[0m\u001b[0;34m\u001b[0m\u001b[0m\n\u001b[0;32m---> 54\u001b[0;31m         \u001b[0;32mfor\u001b[0m \u001b[0mrow\u001b[0m \u001b[0;32min\u001b[0m \u001b[0mcur\u001b[0m\u001b[0;34m.\u001b[0m\u001b[0mexecute\u001b[0m\u001b[0;34m(\u001b[0m\u001b[0msql_command\u001b[0m\u001b[0;34m)\u001b[0m\u001b[0;34m:\u001b[0m\u001b[0;34m\u001b[0m\u001b[0;34m\u001b[0m\u001b[0m\n\u001b[0m\u001b[1;32m     55\u001b[0m             \u001b[0mprint\u001b[0m\u001b[0;34m(\u001b[0m\u001b[0mrow\u001b[0m\u001b[0;34m)\u001b[0m\u001b[0;34m\u001b[0m\u001b[0;34m\u001b[0m\u001b[0m\n\u001b[1;32m     56\u001b[0m \u001b[0;34m\u001b[0m\u001b[0m\n",
      "\u001b[0;31mOperationalError\u001b[0m: no such module: VirtualSpatialIndex"
     ]
    }
   ],
   "source": [
    "# issue with SpatialIndex and ElementaryGeometries\n",
    "print_data('/Users/danielorzan/Desktop/ATIproject/DP08_XX_K01_C07_F2_N001.db', 'SpatialIndex')"
   ]
  },
  {
   "cell_type": "code",
   "execution_count": null,
   "metadata": {},
   "outputs": [],
   "source": []
  }
 ],
 "metadata": {
  "interpreter": {
   "hash": "aee8b7b246df8f9039afb4144a1f6fd8d2ca17a180786b69acc140d282b71a49"
  },
  "kernelspec": {
   "display_name": "Python 3.9.10 64-bit",
   "language": "python",
   "name": "python3"
  },
  "language_info": {
   "codemirror_mode": {
    "name": "ipython",
    "version": 3
   },
   "file_extension": ".py",
   "mimetype": "text/x-python",
   "name": "python",
   "nbconvert_exporter": "python",
   "pygments_lexer": "ipython3",
   "version": "3.9.7"
  },
  "orig_nbformat": 4
 },
 "nbformat": 4,
 "nbformat_minor": 2
}
