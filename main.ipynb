{
 "cells": [
  {
   "cell_type": "markdown",
   "metadata": {},
   "source": [
    "## DB"
   ]
  },
  {
   "cell_type": "code",
   "execution_count": null,
   "metadata": {},
   "outputs": [],
   "source": [
    "import sqlite3\n",
    "\n",
    "def get_table_names(file_path):\n",
    "    \n",
    "    # Create a SQL connection to our SQLite database\n",
    "    con = sqlite3.connect(file_path)\n",
    "\n",
    "    # creating cursor\n",
    "    cur = con.cursor()\n",
    "\n",
    "    # reading all table names\n",
    "    table_list = [a for a in cur.execute(\"SELECT name FROM sqlite_master WHERE type = 'table' OR type = 'view'\")]\n",
    "\n",
    "    # Be sure to close the connection\n",
    "    con.close()\n",
    "\n",
    "    table_names = [name[0] for name in table_list]\n",
    "\n",
    "    return table_names\n",
    "\n",
    "\n",
    "def print_data(file_path, table_name = None):\n",
    "    \n",
    "    if table_name is None:\n",
    "        table_names = get_table_names(file_path)\n",
    "\n",
    "        # Create a SQL connection to our SQLite database\n",
    "        con = sqlite3.connect(file_path)\n",
    "\n",
    "        cur = con.cursor()\n",
    "\n",
    "        # The result of a \"cursor.execute\" can be iterated over by row\n",
    "        for name in table_names:\n",
    "            if name == 'ElementaryGeometries' or name == 'SpatialIndex':\n",
    "                continue\n",
    "            sql_command = \"SELECT * FROM \" + name\n",
    "            print(name)\n",
    "            for row in cur.execute(sql_command):\n",
    "                print(row)\n",
    "            print('\\n\\n')\n",
    "\n",
    "        # Be sure to close the connection\n",
    "        con.close()\n",
    "    \n",
    "    else:\n",
    "        # Create a SQL connection to our SQLite database\n",
    "        con = sqlite3.connect(file_path)\n",
    "\n",
    "        cur = con.cursor()\n",
    "\n",
    "        # The result of a \"cursor.execute\" can be iterated over by row\n",
    "        sql_command = \"SELECT * FROM \" + table_name\n",
    "        print(table_name)\n",
    "        for row in cur.execute(sql_command):\n",
    "            print(row)\n",
    "\n",
    "        # Be sure to close the connection\n",
    "        con.close()"
   ]
  },
  {
   "cell_type": "code",
   "execution_count": null,
   "metadata": {},
   "outputs": [],
   "source": [
    "a = get_table_names(r\"\\Users\\Administrator\\Downloads\\DP08_XX_K01_C07_F2_N001.db\")\n",
    "len(a)\n",
    "print(a)"
   ]
  },
  {
   "cell_type": "code",
   "execution_count": null,
   "metadata": {},
   "outputs": [],
   "source": [
    "import sqlite3\n",
    "\n",
    "def initialize(file_path):\n",
    "    \n",
    "    # Create a SQL connection to our SQLite database\n",
    "    # returns connection and cursor\n",
    "\n",
    "    con = sqlite3.connect(file_path)\n",
    "    cur = con.cursor()\n",
    "    print('Opening connection')\n",
    "\n",
    "    return cur, con\n",
    "\n",
    "\n",
    "def finilize(con):\n",
    "\n",
    "    # Closes SQL connection\n",
    "\n",
    "    con.close()\n",
    "    print('Closing connection')"
   ]
  },
  {
   "cell_type": "code",
   "execution_count": null,
   "metadata": {},
   "outputs": [],
   "source": [
    "def work(file_path, sql):\n",
    "    \n",
    "    cur, con = initialize(file_path)\n",
    "    out = cur.execute(sql)\n",
    "    print('SQL done')\n",
    "    \n",
    "    table_list = [a[0] for a in out] #why do I get ordered output sometimes???\n",
    "    print('Work completed')\n",
    "\n",
    "    finilize(con)\n",
    "\n",
    "    return table_list"
   ]
  },
  {
   "cell_type": "code",
   "execution_count": null,
   "metadata": {},
   "outputs": [],
   "source": [
    "sql = \"SELECT DISTINCT Area FROM RoomElements LIMIT 10\"\n",
    "table_list = work(r\"\\Users\\Administrator\\Downloads\\DP08_XX_K01_C07_F2_N001.db\", sql)\n",
    "\n",
    "print(table_list)"
   ]
  },
  {
   "cell_type": "code",
   "execution_count": null,
   "metadata": {},
   "outputs": [],
   "source": [
    "import sqlite3\n",
    "\n",
    "def generate_docs(db, docs, title):\n",
    "    # open doc file and define table template\n",
    "    f = open(docs, \"w+\")\n",
    "    f.write(title + \"\\n\")\n",
    "    table_template = \"|{}|{}|\\n| :-: | :-:|\\n\".format(\"COLUMN\", \"DESCRIPTION\")\n",
    "    # open database\n",
    "    con = sqlite3.connect(db)\n",
    "    cur = con.cursor()\n",
    "    cur.execute(\"SELECT name FROM sqlite_master WHERE type='view';\")\n",
    "    for table in cur.fetchall():\n",
    "        # print table name\n",
    "        table_name = table[0].upper()\n",
    "        f.write(\"### {}\\n\".format(table_name))\n",
    "        f.write(table_template)\n",
    "        if table_name == 'ELEMENTARYGEOMETRIES' or table_name == 'SPATIALINDEX':\n",
    "            continue\n",
    "        # print table columns\n",
    "        cur.execute(\"SELECT * FROM {};\".format(table_name))\n",
    "        cols = [description[0] for description in cur.description]\n",
    "        for col in cols:\n",
    "            f.write(\"| {} | |\\n\".format(col))\n",
    "    f.close()\n",
    "\n",
    "\n",
    "generate_docs(r\"\\Users\\Administrator\\Downloads\\DP08_XX_K01_C07_F2_N001.db\", \"db_template_views.md\",\n",
    "              \"Room schema\")"
   ]
  },
  {
   "cell_type": "code",
   "execution_count": null,
   "metadata": {},
   "outputs": [],
   "source": [
    "# issue with SpatialIndex and ElementaryGeometries\n",
    "print_data(r\"\\Users\\Administrator\\Downloads\\DP08_XX_K01_C07_F2_N001.db\", 'SpatialIndex')"
   ]
  },
  {
   "cell_type": "code",
   "execution_count": 156,
   "metadata": {},
   "outputs": [],
   "source": [
    "import pymysql\n",
    "  \n",
    "def mysqlconnect(sql_command):\n",
    "    # To connect MySQL database\n",
    "    conn = pymysql.connect(\n",
    "        host='192.168.2.140',\n",
    "        user='admin', \n",
    "        password = \"admin\",\n",
    "        db='db',\n",
    "        port=6606\n",
    "        )\n",
    "      \n",
    "    cur = conn.cursor()\n",
    "    cur.execute(sql_command)\n",
    "    output = cur.fetchall()\n",
    "    print('Printing table:\\n\\n', output)\n",
    "      \n",
    "    # To close the connection\n",
    "    conn.close()\n",
    "\n",
    "    return output"
   ]
  },
  {
   "cell_type": "code",
   "execution_count": 158,
   "metadata": {},
   "outputs": [
    {
     "name": "stdout",
     "output_type": "stream",
     "text": [
      "Printing table:\n",
      "\n",
      " (('CHARACTER_SETS',), ('COLLATIONS',), ('COLLATION_CHARACTER_SET_APPLICABILITY',), ('COLUMNS',), ('COLUMN_PRIVILEGES',), ('ENGINES',), ('EVENTS',), ('FILES',), ('GLOBAL_STATUS',), ('GLOBAL_VARIABLES',), ('KEY_COLUMN_USAGE',), ('OPTIMIZER_TRACE',), ('PARAMETERS',), ('PARTITIONS',), ('PLUGINS',), ('PROCESSLIST',), ('PROFILING',), ('REFERENTIAL_CONSTRAINTS',), ('ROUTINES',), ('SCHEMATA',), ('SCHEMA_PRIVILEGES',), ('SESSION_STATUS',), ('SESSION_VARIABLES',), ('STATISTICS',), ('TABLES',), ('TABLESPACES',), ('TABLE_CONSTRAINTS',), ('TABLE_PRIVILEGES',), ('TRIGGERS',), ('USER_PRIVILEGES',), ('VIEWS',), ('INNODB_LOCKS',), ('INNODB_TRX',), ('INNODB_SYS_DATAFILES',), ('INNODB_FT_CONFIG',), ('INNODB_SYS_VIRTUAL',), ('INNODB_CMP',), ('INNODB_FT_BEING_DELETED',), ('INNODB_CMP_RESET',), ('INNODB_CMP_PER_INDEX',), ('INNODB_CMPMEM_RESET',), ('INNODB_FT_DELETED',), ('INNODB_BUFFER_PAGE_LRU',), ('INNODB_LOCK_WAITS',), ('INNODB_TEMP_TABLE_INFO',), ('INNODB_SYS_INDEXES',), ('INNODB_SYS_TABLES',), ('INNODB_SYS_FIELDS',), ('INNODB_CMP_PER_INDEX_RESET',), ('INNODB_BUFFER_PAGE',), ('INNODB_FT_DEFAULT_STOPWORD',), ('INNODB_FT_INDEX_TABLE',), ('INNODB_FT_INDEX_CACHE',), ('INNODB_SYS_TABLESPACES',), ('INNODB_METRICS',), ('INNODB_SYS_FOREIGN_COLS',), ('INNODB_CMPMEM',), ('INNODB_BUFFER_POOL_STATS',), ('INNODB_SYS_COLUMNS',), ('INNODB_SYS_FOREIGN',), ('INNODB_SYS_TABLESTATS',), ('alembic_version',), ('folders',), ('hubs',), ('items',), ('objects',), ('projects',), ('properties',), ('versions',))\n"
     ]
    }
   ],
   "source": [
    "df = mysqlconnect(\"SELECT table_name FROM information_schema.tables\")"
   ]
  },
  {
   "cell_type": "code",
   "execution_count": 1,
   "metadata": {},
   "outputs": [],
   "source": [
    "#import os\n",
    "import pymysql\n",
    "import pandas as pd\n",
    "\n",
    "\"\"\" host = os.getenv('MYSQL_HOST')\n",
    "port = os.getenv('MYSQL_PORT')\n",
    "user = os.getenv('MYSQL_USER')\n",
    "password = os.getenv('MYSQL_PASSWORD')\n",
    "database = os.getenv('MYSQL_DATABASE')\n",
    " \"\"\"\n",
    "\n",
    "conn = pymysql.connect(\n",
    "    host='192.168.2.140',\n",
    "    user='admin', \n",
    "    password = \"admin\",\n",
    "    db='db',\n",
    "    port=6606\n",
    "    )\n",
    "\n",
    "#usage:\n",
    "#df = pd.read_sql_query(\"SELECT * FROM folders\", conn)"
   ]
  },
  {
   "cell_type": "code",
   "execution_count": null,
   "metadata": {},
   "outputs": [],
   "source": [
    "pd.read_sql_query(\"SELECT table_name FROM information_schema.tables\", conn)"
   ]
  },
  {
   "cell_type": "code",
   "execution_count": 47,
   "metadata": {},
   "outputs": [],
   "source": [
    "# inside 01_ARC there are all the rooms, no need for everything else\n",
    "\n",
    "# select items that are in the 01_arc folder\n",
    "# select versions of the found item_id\n",
    "# select objects with found versions\n",
    "# select what you need from such objects\n",
    "\n",
    "df = pd.read_sql_query(\"SELECT DISTINCT name FROM properties WHERE object_id IN \\\n",
    "    (SELECT id FROM objects WHERE version_id IN \\\n",
    "    (SELECT id FROM versions WHERE item_id IN \\\n",
    "    (SELECT id FROM items WHERE folder_id IN \\\n",
    "    (SELECT id from folders WHERE name = '01_ARC')))) \\\n",
    "    ORDER BY name\", conn)\n",
    "df.to_csv(r'C:\\Users\\Administrator\\Desktop\\ATI_project\\database files\\properties.csv', index = False)"
   ]
  },
  {
   "cell_type": "markdown",
   "metadata": {},
   "source": [
    "## ROOMS"
   ]
  },
  {
   "cell_type": "code",
   "execution_count": 2,
   "metadata": {},
   "outputs": [],
   "source": [
    "revit_rooms = pd.read_sql_query(\"SELECT DISTINCT object_id FROM properties WHERE value = 'Revit Rooms' AND object_id IN \\\n",
    "    (SELECT id FROM objects WHERE version_id IN \\\n",
    "    (SELECT id FROM versions WHERE item_id IN \\\n",
    "    (SELECT id FROM items WHERE folder_id IN \\\n",
    "    (SELECT id from folders WHERE name = '01_ARC'))))\", conn)"
   ]
  },
  {
   "cell_type": "code",
   "execution_count": 3,
   "metadata": {},
   "outputs": [
    {
     "data": {
      "text/html": [
       "<div>\n",
       "<style scoped>\n",
       "    .dataframe tbody tr th:only-of-type {\n",
       "        vertical-align: middle;\n",
       "    }\n",
       "\n",
       "    .dataframe tbody tr th {\n",
       "        vertical-align: top;\n",
       "    }\n",
       "\n",
       "    .dataframe thead th {\n",
       "        text-align: right;\n",
       "    }\n",
       "</style>\n",
       "<table border=\"1\" class=\"dataframe\">\n",
       "  <thead>\n",
       "    <tr style=\"text-align: right;\">\n",
       "      <th></th>\n",
       "      <th>object_id</th>\n",
       "    </tr>\n",
       "  </thead>\n",
       "  <tbody>\n",
       "    <tr>\n",
       "      <th>0</th>\n",
       "      <td>002bfde8b293cfa120fea76015dc098f9065b5cf</td>\n",
       "    </tr>\n",
       "    <tr>\n",
       "      <th>1</th>\n",
       "      <td>004ba9ab790e3be3ba47da199ea4b1a7830d70a2</td>\n",
       "    </tr>\n",
       "    <tr>\n",
       "      <th>2</th>\n",
       "      <td>007af3e783ad71a1b2604f117c0b4c85ebac435b</td>\n",
       "    </tr>\n",
       "    <tr>\n",
       "      <th>3</th>\n",
       "      <td>0090a29533f90f65310a9b571949206d28249824</td>\n",
       "    </tr>\n",
       "    <tr>\n",
       "      <th>4</th>\n",
       "      <td>00ac87faba28fc51f82ef20c779870f4e81d0956</td>\n",
       "    </tr>\n",
       "    <tr>\n",
       "      <th>...</th>\n",
       "      <td>...</td>\n",
       "    </tr>\n",
       "    <tr>\n",
       "      <th>10571</th>\n",
       "      <td>ff43f5d0bd1fc5c2ed2ef9ee82a4d714696fca97</td>\n",
       "    </tr>\n",
       "    <tr>\n",
       "      <th>10572</th>\n",
       "      <td>ffb81cb733a9558059b3b9ac322f71bf16bb7c98</td>\n",
       "    </tr>\n",
       "    <tr>\n",
       "      <th>10573</th>\n",
       "      <td>ffb9c1a61ffedeec2d4ddcab4d1c6e4ba0f42017</td>\n",
       "    </tr>\n",
       "    <tr>\n",
       "      <th>10574</th>\n",
       "      <td>ffbe266f4f17c9936e0c7ee602a685be7241ae8c</td>\n",
       "    </tr>\n",
       "    <tr>\n",
       "      <th>10575</th>\n",
       "      <td>ffe6f39e394b45d49813303eb1d4a2b6b0e0be76</td>\n",
       "    </tr>\n",
       "  </tbody>\n",
       "</table>\n",
       "<p>10576 rows × 1 columns</p>\n",
       "</div>"
      ],
      "text/plain": [
       "                                      object_id\n",
       "0      002bfde8b293cfa120fea76015dc098f9065b5cf\n",
       "1      004ba9ab790e3be3ba47da199ea4b1a7830d70a2\n",
       "2      007af3e783ad71a1b2604f117c0b4c85ebac435b\n",
       "3      0090a29533f90f65310a9b571949206d28249824\n",
       "4      00ac87faba28fc51f82ef20c779870f4e81d0956\n",
       "...                                         ...\n",
       "10571  ff43f5d0bd1fc5c2ed2ef9ee82a4d714696fca97\n",
       "10572  ffb81cb733a9558059b3b9ac322f71bf16bb7c98\n",
       "10573  ffb9c1a61ffedeec2d4ddcab4d1c6e4ba0f42017\n",
       "10574  ffbe266f4f17c9936e0c7ee602a685be7241ae8c\n",
       "10575  ffe6f39e394b45d49813303eb1d4a2b6b0e0be76\n",
       "\n",
       "[10576 rows x 1 columns]"
      ]
     },
     "execution_count": 3,
     "metadata": {},
     "output_type": "execute_result"
    }
   ],
   "source": [
    "revit_rooms"
   ]
  },
  {
   "cell_type": "code",
   "execution_count": 113,
   "metadata": {},
   "outputs": [],
   "source": [
    "revit_rooms_names = pd.read_sql_query(\"SELECT DISTINCT value FROM properties WHERE BINARY name = 'Name' AND object_id IN \\\n",
    "    (SELECT DISTINCT object_id FROM properties WHERE value = 'Revit Rooms' AND object_id IN \\\n",
    "    (SELECT id FROM objects WHERE version_id IN \\\n",
    "    (SELECT id FROM versions WHERE item_id IN \\\n",
    "    (SELECT id FROM items WHERE folder_id IN \\\n",
    "    (SELECT id from folders WHERE name = '01_ARC'))))) ORDER BY value\", conn)"
   ]
  },
  {
   "cell_type": "code",
   "execution_count": 116,
   "metadata": {},
   "outputs": [],
   "source": [
    "revit_rooms_names.to_csv(r'C:\\Users\\Administrator\\Desktop\\ATI_project\\database files\\revit_rooms_names.csv', index = False)"
   ]
  },
  {
   "cell_type": "code",
   "execution_count": 96,
   "metadata": {},
   "outputs": [],
   "source": [
    "first_room = pd.read_sql_query(\"SELECT name, value FROM properties WHERE object_id = '002bfde8b293cfa120fea76015dc098f9065b5cf' ORDER BY name\", conn)"
   ]
  },
  {
   "cell_type": "code",
   "execution_count": 98,
   "metadata": {},
   "outputs": [],
   "source": [
    "first_room.to_csv(r'C:\\Users\\Administrator\\Desktop\\ATI_project\\database files\\first_room.csv', index = False)"
   ]
  },
  {
   "cell_type": "code",
   "execution_count": 117,
   "metadata": {},
   "outputs": [],
   "source": [
    "# select id of all kontor (office)\n",
    "offices_kontor = pd.read_sql_query(\"SELECT DISTINCT object_id FROM properties WHERE value = 'Kontor' AND BINARY name = 'Name' AND object_id IN \\\n",
    "    (SELECT id FROM objects WHERE version_id IN \\\n",
    "    (SELECT id FROM versions WHERE item_id IN \\\n",
    "    (SELECT id FROM items WHERE folder_id IN \\\n",
    "    (SELECT id from folders WHERE name = '01_ARC'))))\", conn)"
   ]
  },
  {
   "cell_type": "code",
   "execution_count": 118,
   "metadata": {},
   "outputs": [
    {
     "data": {
      "text/html": [
       "<div>\n",
       "<style scoped>\n",
       "    .dataframe tbody tr th:only-of-type {\n",
       "        vertical-align: middle;\n",
       "    }\n",
       "\n",
       "    .dataframe tbody tr th {\n",
       "        vertical-align: top;\n",
       "    }\n",
       "\n",
       "    .dataframe thead th {\n",
       "        text-align: right;\n",
       "    }\n",
       "</style>\n",
       "<table border=\"1\" class=\"dataframe\">\n",
       "  <thead>\n",
       "    <tr style=\"text-align: right;\">\n",
       "      <th></th>\n",
       "      <th>object_id</th>\n",
       "    </tr>\n",
       "  </thead>\n",
       "  <tbody>\n",
       "    <tr>\n",
       "      <th>0</th>\n",
       "      <td>85c5eb89dedc0c1dab1ca019eb3115f304a926d4</td>\n",
       "    </tr>\n",
       "    <tr>\n",
       "      <th>1</th>\n",
       "      <td>0d89e46ac066e527a96ad24b1ba56f1a08a4bfa6</td>\n",
       "    </tr>\n",
       "    <tr>\n",
       "      <th>2</th>\n",
       "      <td>4ce94f070ee01ae83cfeaa60da9a09af527032e8</td>\n",
       "    </tr>\n",
       "    <tr>\n",
       "      <th>3</th>\n",
       "      <td>57ff8940e7052bcfea83cf82143220426641f0f3</td>\n",
       "    </tr>\n",
       "    <tr>\n",
       "      <th>4</th>\n",
       "      <td>849ad2ad699255ae21a7d984b77ec491d1cae69b</td>\n",
       "    </tr>\n",
       "    <tr>\n",
       "      <th>5</th>\n",
       "      <td>6255fb3336d0fd546c0d5838529c3fd9c02bc081</td>\n",
       "    </tr>\n",
       "  </tbody>\n",
       "</table>\n",
       "</div>"
      ],
      "text/plain": [
       "                                  object_id\n",
       "0  85c5eb89dedc0c1dab1ca019eb3115f304a926d4\n",
       "1  0d89e46ac066e527a96ad24b1ba56f1a08a4bfa6\n",
       "2  4ce94f070ee01ae83cfeaa60da9a09af527032e8\n",
       "3  57ff8940e7052bcfea83cf82143220426641f0f3\n",
       "4  849ad2ad699255ae21a7d984b77ec491d1cae69b\n",
       "5  6255fb3336d0fd546c0d5838529c3fd9c02bc081"
      ]
     },
     "execution_count": 118,
     "metadata": {},
     "output_type": "execute_result"
    }
   ],
   "source": [
    "offices_kontor"
   ]
  },
  {
   "cell_type": "code",
   "execution_count": 120,
   "metadata": {},
   "outputs": [],
   "source": [
    "first_kontor = pd.read_sql_query(\"SELECT name, value FROM properties WHERE object_id = '85c5eb89dedc0c1dab1ca019eb3115f304a926d4' ORDER BY name\", conn)"
   ]
  },
  {
   "cell_type": "code",
   "execution_count": 121,
   "metadata": {},
   "outputs": [],
   "source": [
    "first_kontor.to_csv(r'C:\\Users\\Administrator\\Desktop\\ATI_project\\database files\\first_kontor.csv', index = False)"
   ]
  },
  {
   "cell_type": "code",
   "execution_count": null,
   "metadata": {},
   "outputs": [],
   "source": [
    "# get all revit rooms on every plan (level) with their count"
   ]
  },
  {
   "cell_type": "code",
   "execution_count": 157,
   "metadata": {},
   "outputs": [],
   "source": [
    "floor1_count = pd.read_sql_query(\"SELECT value, COUNT(*) FROM properties WHERE BINARY name = 'Name' AND object_id IN \\\n",
    "    (SELECT DISTINCT object_id FROM properties WHERE value = 'Plan 1 (01)' AND object_id IN \\\n",
    "    (SELECT DISTINCT object_id FROM properties WHERE value = 'Revit Rooms' AND object_id IN \\\n",
    "    (SELECT id FROM objects WHERE version_id IN \\\n",
    "    (SELECT id FROM versions WHERE item_id IN \\\n",
    "    (SELECT id FROM items WHERE folder_id IN \\\n",
    "    (SELECT id from folders WHERE name = '01_ARC')))))) \\\n",
    "    GROUP BY value\", conn)"
   ]
  },
  {
   "cell_type": "code",
   "execution_count": 174,
   "metadata": {},
   "outputs": [],
   "source": [
    "floor1_count.to_csv(r'C:\\Users\\Administrator\\Desktop\\ATI_project\\database files\\floor1_count.csv', index = False)"
   ]
  },
  {
   "cell_type": "code",
   "execution_count": 161,
   "metadata": {},
   "outputs": [
    {
     "data": {
      "text/plain": [
       "1247"
      ]
     },
     "execution_count": 161,
     "metadata": {},
     "output_type": "execute_result"
    }
   ],
   "source": [
    "sum(floor1_count['COUNT(*)'])"
   ]
  },
  {
   "cell_type": "code",
   "execution_count": 173,
   "metadata": {},
   "outputs": [],
   "source": [
    "floor1_count = floor1_count.sort_values(by='COUNT(*)', ascending=False)"
   ]
  },
  {
   "cell_type": "code",
   "execution_count": 162,
   "metadata": {},
   "outputs": [],
   "source": [
    "floor2_count = pd.read_sql_query(\"SELECT value, COUNT(*) FROM properties WHERE BINARY name = 'Name' AND object_id IN \\\n",
    "    (SELECT DISTINCT object_id FROM properties WHERE value = 'Plan 2 (02)' AND object_id IN \\\n",
    "    (SELECT DISTINCT object_id FROM properties WHERE value = 'Revit Rooms' AND object_id IN \\\n",
    "    (SELECT id FROM objects WHERE version_id IN \\\n",
    "    (SELECT id FROM versions WHERE item_id IN \\\n",
    "    (SELECT id FROM items WHERE folder_id IN \\\n",
    "    (SELECT id from folders WHERE name = '01_ARC')))))) \\\n",
    "    GROUP BY value\", conn)"
   ]
  },
  {
   "cell_type": "code",
   "execution_count": 164,
   "metadata": {},
   "outputs": [
    {
     "data": {
      "text/plain": [
       "1600"
      ]
     },
     "execution_count": 164,
     "metadata": {},
     "output_type": "execute_result"
    }
   ],
   "source": [
    "sum(floor2_count['COUNT(*)'])"
   ]
  },
  {
   "cell_type": "code",
   "execution_count": 165,
   "metadata": {},
   "outputs": [],
   "source": [
    "floor2_count.to_csv(r'C:\\Users\\Administrator\\Desktop\\ATI_project\\database files\\floor2_count.csv', index = False)"
   ]
  },
  {
   "cell_type": "code",
   "execution_count": 166,
   "metadata": {},
   "outputs": [],
   "source": [
    "floor3_count = pd.read_sql_query(\"SELECT value, COUNT(*) FROM properties WHERE BINARY name = 'Name' AND object_id IN \\\n",
    "    (SELECT DISTINCT object_id FROM properties WHERE value = 'Plan 3 (03)' AND object_id IN \\\n",
    "    (SELECT DISTINCT object_id FROM properties WHERE value = 'Revit Rooms' AND object_id IN \\\n",
    "    (SELECT id FROM objects WHERE version_id IN \\\n",
    "    (SELECT id FROM versions WHERE item_id IN \\\n",
    "    (SELECT id FROM items WHERE folder_id IN \\\n",
    "    (SELECT id from folders WHERE name = '01_ARC')))))) \\\n",
    "    GROUP BY value\", conn)"
   ]
  },
  {
   "cell_type": "code",
   "execution_count": 167,
   "metadata": {},
   "outputs": [],
   "source": [
    "floor4_count = pd.read_sql_query(\"SELECT value, COUNT(*) FROM properties WHERE BINARY name = 'Name' AND object_id IN \\\n",
    "    (SELECT DISTINCT object_id FROM properties WHERE value = 'Plan 4 (04)' AND object_id IN \\\n",
    "    (SELECT DISTINCT object_id FROM properties WHERE value = 'Revit Rooms' AND object_id IN \\\n",
    "    (SELECT id FROM objects WHERE version_id IN \\\n",
    "    (SELECT id FROM versions WHERE item_id IN \\\n",
    "    (SELECT id FROM items WHERE folder_id IN \\\n",
    "    (SELECT id from folders WHERE name = '01_ARC')))))) \\\n",
    "    GROUP BY value\", conn)"
   ]
  },
  {
   "cell_type": "code",
   "execution_count": 168,
   "metadata": {},
   "outputs": [],
   "source": [
    "floor3_count.to_csv(r'C:\\Users\\Administrator\\Desktop\\ATI_project\\database files\\floor3_count.csv', index = False)\n",
    "floor4_count.to_csv(r'C:\\Users\\Administrator\\Desktop\\ATI_project\\database files\\floor4_count.csv', index = False)"
   ]
  },
  {
   "cell_type": "code",
   "execution_count": 169,
   "metadata": {},
   "outputs": [
    {
     "name": "stdout",
     "output_type": "stream",
     "text": [
      "2467\n",
      "1023\n"
     ]
    }
   ],
   "source": [
    "print(sum(floor3_count['COUNT(*)']))\n",
    "print(sum(floor4_count['COUNT(*)']))"
   ]
  },
  {
   "cell_type": "markdown",
   "metadata": {},
   "source": [
    "## USEFUL PROPERTIES"
   ]
  },
  {
   "cell_type": "code",
   "execution_count": 122,
   "metadata": {},
   "outputs": [],
   "source": [
    "levels = pd.read_sql_query(\"SELECT DISTINCT value FROM properties WHERE name = 'Level' AND object_id IN \\\n",
    "    (SELECT id FROM objects WHERE version_id IN \\\n",
    "    (SELECT id FROM versions WHERE item_id IN \\\n",
    "    (SELECT id FROM items WHERE folder_id IN \\\n",
    "    (SELECT id from folders WHERE name = '01_ARC')))) \\\n",
    "    ORDER BY value\", conn)"
   ]
  },
  {
   "cell_type": "code",
   "execution_count": 123,
   "metadata": {},
   "outputs": [],
   "source": [
    "levels.to_csv(r'C:\\Users\\Administrator\\Desktop\\ATI_project\\database files\\levels.csv', index = False)"
   ]
  },
  {
   "cell_type": "code",
   "execution_count": 89,
   "metadata": {},
   "outputs": [],
   "source": [
    "categories = pd.read_sql_query(\"SELECT DISTINCT value FROM properties WHERE name = 'Category' AND object_id IN \\\n",
    "    (SELECT id FROM objects WHERE version_id IN \\\n",
    "    (SELECT id FROM versions WHERE item_id IN \\\n",
    "    (SELECT id FROM items WHERE folder_id IN \\\n",
    "    (SELECT id from folders WHERE name = '01_ARC'))))\", conn)"
   ]
  },
  {
   "cell_type": "code",
   "execution_count": 99,
   "metadata": {},
   "outputs": [],
   "source": [
    "categories.to_csv(r'C:\\Users\\Administrator\\Desktop\\ATI_project\\database files\\categories.csv', index = False)"
   ]
  },
  {
   "cell_type": "code",
   "execution_count": 186,
   "metadata": {},
   "outputs": [],
   "source": [
    "WBS_L_4_Level = pd.read_sql_query(\"SELECT DISTINCT value FROM properties WHERE name = 'WBS_L.4-Level' AND object_id IN \\\n",
    "    (SELECT id FROM objects WHERE version_id IN \\\n",
    "    (SELECT id FROM versions WHERE item_id IN \\\n",
    "    (SELECT id FROM items WHERE folder_id IN \\\n",
    "    (SELECT id from folders WHERE name = '01_ARC'))))\", conn)"
   ]
  },
  {
   "cell_type": "code",
   "execution_count": 189,
   "metadata": {},
   "outputs": [],
   "source": [
    "WBS_L_4_Level.to_csv(r'C:\\Users\\Administrator\\Desktop\\ATI_project\\database files\\WBS_L_4_Level.csv', index = False)"
   ]
  },
  {
   "cell_type": "code",
   "execution_count": 195,
   "metadata": {},
   "outputs": [],
   "source": [
    "WBS_L_2_Site = pd.read_sql_query(\"SELECT DISTINCT value FROM properties WHERE name = 'WBS_L.2-Site' AND object_id IN \\\n",
    "    (SELECT id FROM objects WHERE version_id IN \\\n",
    "    (SELECT id FROM versions WHERE item_id IN \\\n",
    "    (SELECT id FROM items WHERE folder_id IN \\\n",
    "    (SELECT id from folders WHERE name = '01_ARC'))))\", conn)"
   ]
  },
  {
   "cell_type": "code",
   "execution_count": 196,
   "metadata": {},
   "outputs": [],
   "source": [
    "WBS_L_2_Site.to_csv(r'C:\\Users\\Administrator\\Desktop\\ATI_project\\database files\\WBS_L_2_Site.csv', index = False)"
   ]
  },
  {
   "cell_type": "code",
   "execution_count": 197,
   "metadata": {},
   "outputs": [],
   "source": [
    "WBS_L_3_Building = pd.read_sql_query(\"SELECT DISTINCT value FROM properties WHERE name = 'WBS_L.3-Building' AND object_id IN \\\n",
    "    (SELECT id FROM objects WHERE version_id IN \\\n",
    "    (SELECT id FROM versions WHERE item_id IN \\\n",
    "    (SELECT id FROM items WHERE folder_id IN \\\n",
    "    (SELECT id from folders WHERE name = '01_ARC'))))\", conn)"
   ]
  },
  {
   "cell_type": "code",
   "execution_count": 198,
   "metadata": {},
   "outputs": [],
   "source": [
    "WBS_L_3_Building.to_csv(r'C:\\Users\\Administrator\\Desktop\\ATI_project\\database files\\WBS_L_3_Building.csv', index = False)"
   ]
  },
  {
   "cell_type": "code",
   "execution_count": 44,
   "metadata": {},
   "outputs": [],
   "source": [
    "buildings = pd.read_json(r'C:\\Users\\Administrator\\Desktop\\ATI_project\\database files\\WBS_L_3_Building.csv')\n",
    "levels = pd.read_json(r'C:\\Users\\Administrator\\Desktop\\ATI_project\\database files\\WBS_L_4_Level.csv')"
   ]
  },
  {
   "cell_type": "code",
   "execution_count": null,
   "metadata": {},
   "outputs": [],
   "source": []
  },
  {
   "cell_type": "code",
   "execution_count": null,
   "metadata": {},
   "outputs": [],
   "source": []
  },
  {
   "cell_type": "code",
   "execution_count": null,
   "metadata": {},
   "outputs": [],
   "source": []
  },
  {
   "cell_type": "code",
   "execution_count": null,
   "metadata": {},
   "outputs": [],
   "source": [
    "# GOAL: get all rooms with meaningful attributes in every building/floor\n",
    "\n",
    "# attributes: Level, Name, Perimeter, WBS_L.2-Site, WBS_L.3-Building, WBS_L.4-Level\n",
    "\n",
    "# file: name is building and floor (Level, WBS_L.3-Building, WBS_L.4-Level) -> is site necessary?\n",
    "# not gonna use Level as there is another attribute with the same name\n",
    "\n",
    "# inside file: 1st col is room id (object_id), 2nd col is room type (Name), 3rd col is Perimeter (useful to check if it corresponds to the one obtained from coordinates)\n",
    "# inside file then gonna add coordinates of room corners and doors"
   ]
  },
  {
   "cell_type": "code",
   "execution_count": 6,
   "metadata": {},
   "outputs": [],
   "source": [
    "fast_query = \"SELECT object_id, name, value FROM properties WHERE (BINARY name = 'Name' OR name IN ('WBS_L.3-Building','WBS_L.4-Level')) AND object_id IN \\\n",
    "    (SELECT DISTINCT object_id FROM properties WHERE value = 'Revit Rooms' AND object_id IN \\\n",
    "    (SELECT id FROM objects WHERE version_id IN \\\n",
    "    (SELECT id FROM versions WHERE item_id IN \\\n",
    "    (SELECT id FROM items WHERE folder_id IN \\\n",
    "    (SELECT id from folders WHERE name = '01_ARC')))))\""
   ]
  },
  {
   "cell_type": "code",
   "execution_count": 7,
   "metadata": {},
   "outputs": [],
   "source": [
    "data = pd.read_sql_query(fast_query, conn)"
   ]
  },
  {
   "cell_type": "code",
   "execution_count": 11,
   "metadata": {},
   "outputs": [],
   "source": [
    "data.to_json(r'C:\\Users\\Administrator\\Desktop\\ATI_project\\database files\\data_json.csv')\n",
    "data = pd.read_json(r'C:\\Users\\Administrator\\Desktop\\ATI_project\\database files\\data_json.csv')"
   ]
  },
  {
   "cell_type": "code",
   "execution_count": 46,
   "metadata": {},
   "outputs": [
    {
     "data": {
      "text/html": [
       "<div>\n",
       "<style scoped>\n",
       "    .dataframe tbody tr th:only-of-type {\n",
       "        vertical-align: middle;\n",
       "    }\n",
       "\n",
       "    .dataframe tbody tr th {\n",
       "        vertical-align: top;\n",
       "    }\n",
       "\n",
       "    .dataframe thead th {\n",
       "        text-align: right;\n",
       "    }\n",
       "</style>\n",
       "<table border=\"1\" class=\"dataframe\">\n",
       "  <thead>\n",
       "    <tr style=\"text-align: right;\">\n",
       "      <th></th>\n",
       "      <th>value</th>\n",
       "    </tr>\n",
       "  </thead>\n",
       "  <tbody>\n",
       "    <tr>\n",
       "      <th>0</th>\n",
       "      <td>B22</td>\n",
       "    </tr>\n",
       "    <tr>\n",
       "      <th>1</th>\n",
       "      <td>B24</td>\n",
       "    </tr>\n",
       "    <tr>\n",
       "      <th>10</th>\n",
       "      <td>B52</td>\n",
       "    </tr>\n",
       "    <tr>\n",
       "      <th>11</th>\n",
       "      <td>B10</td>\n",
       "    </tr>\n",
       "    <tr>\n",
       "      <th>12</th>\n",
       "      <td>B12</td>\n",
       "    </tr>\n",
       "    <tr>\n",
       "      <th>13</th>\n",
       "      <td>B94</td>\n",
       "    </tr>\n",
       "    <tr>\n",
       "      <th>14</th>\n",
       "      <td>B96</td>\n",
       "    </tr>\n",
       "    <tr>\n",
       "      <th>15</th>\n",
       "      <td>B98</td>\n",
       "    </tr>\n",
       "    <tr>\n",
       "      <th>16</th>\n",
       "      <td>B45</td>\n",
       "    </tr>\n",
       "    <tr>\n",
       "      <th>17</th>\n",
       "      <td>B02</td>\n",
       "    </tr>\n",
       "    <tr>\n",
       "      <th>18</th>\n",
       "      <td>B44</td>\n",
       "    </tr>\n",
       "    <tr>\n",
       "      <th>19</th>\n",
       "      <td>B06</td>\n",
       "    </tr>\n",
       "    <tr>\n",
       "      <th>2</th>\n",
       "      <td>B20</td>\n",
       "    </tr>\n",
       "    <tr>\n",
       "      <th>20</th>\n",
       "      <td>B04</td>\n",
       "    </tr>\n",
       "    <tr>\n",
       "      <th>21</th>\n",
       "      <td>B42</td>\n",
       "    </tr>\n",
       "    <tr>\n",
       "      <th>22</th>\n",
       "      <td>B43</td>\n",
       "    </tr>\n",
       "    <tr>\n",
       "      <th>23</th>\n",
       "      <td>BCH</td>\n",
       "    </tr>\n",
       "    <tr>\n",
       "      <th>24</th>\n",
       "      <td>B68</td>\n",
       "    </tr>\n",
       "    <tr>\n",
       "      <th>25</th>\n",
       "      <td>B04-06</td>\n",
       "    </tr>\n",
       "    <tr>\n",
       "      <th>26</th>\n",
       "      <td>B66</td>\n",
       "    </tr>\n",
       "    <tr>\n",
       "      <th>27</th>\n",
       "      <td>B64</td>\n",
       "    </tr>\n",
       "    <tr>\n",
       "      <th>28</th>\n",
       "      <td>66</td>\n",
       "    </tr>\n",
       "    <tr>\n",
       "      <th>4</th>\n",
       "      <td>BRD</td>\n",
       "    </tr>\n",
       "    <tr>\n",
       "      <th>5</th>\n",
       "      <td>B34</td>\n",
       "    </tr>\n",
       "    <tr>\n",
       "      <th>6</th>\n",
       "      <td>B36</td>\n",
       "    </tr>\n",
       "    <tr>\n",
       "      <th>7</th>\n",
       "      <td>B38</td>\n",
       "    </tr>\n",
       "    <tr>\n",
       "      <th>8</th>\n",
       "      <td>B50</td>\n",
       "    </tr>\n",
       "    <tr>\n",
       "      <th>9</th>\n",
       "      <td>B54</td>\n",
       "    </tr>\n",
       "  </tbody>\n",
       "</table>\n",
       "</div>"
      ],
      "text/plain": [
       "     value\n",
       "0      B22\n",
       "1      B24\n",
       "10     B52\n",
       "11     B10\n",
       "12     B12\n",
       "13     B94\n",
       "14     B96\n",
       "15     B98\n",
       "16     B45\n",
       "17     B02\n",
       "18     B44\n",
       "19     B06\n",
       "2      B20\n",
       "20     B04\n",
       "21     B42\n",
       "22     B43\n",
       "23     BCH\n",
       "24     B68\n",
       "25  B04-06\n",
       "26     B66\n",
       "27     B64\n",
       "28      66\n",
       "4      BRD\n",
       "5      B34\n",
       "6      B36\n",
       "7      B38\n",
       "8      B50\n",
       "9      B54"
      ]
     },
     "execution_count": 46,
     "metadata": {},
     "output_type": "execute_result"
    }
   ],
   "source": [
    "buildings = buildings.drop(index=3)\n",
    "buildings"
   ]
  },
  {
   "cell_type": "code",
   "execution_count": 48,
   "metadata": {},
   "outputs": [
    {
     "data": {
      "text/html": [
       "<div>\n",
       "<style scoped>\n",
       "    .dataframe tbody tr th:only-of-type {\n",
       "        vertical-align: middle;\n",
       "    }\n",
       "\n",
       "    .dataframe tbody tr th {\n",
       "        vertical-align: top;\n",
       "    }\n",
       "\n",
       "    .dataframe thead th {\n",
       "        text-align: right;\n",
       "    }\n",
       "</style>\n",
       "<table border=\"1\" class=\"dataframe\">\n",
       "  <thead>\n",
       "    <tr style=\"text-align: right;\">\n",
       "      <th></th>\n",
       "      <th>value</th>\n",
       "    </tr>\n",
       "  </thead>\n",
       "  <tbody>\n",
       "    <tr>\n",
       "      <th>0</th>\n",
       "      <td>L01</td>\n",
       "    </tr>\n",
       "    <tr>\n",
       "      <th>1</th>\n",
       "      <td>L03</td>\n",
       "    </tr>\n",
       "    <tr>\n",
       "      <th>10</th>\n",
       "      <td>FN1</td>\n",
       "    </tr>\n",
       "    <tr>\n",
       "      <th>11</th>\n",
       "      <td>LEA</td>\n",
       "    </tr>\n",
       "    <tr>\n",
       "      <th>12</th>\n",
       "      <td>LRA</td>\n",
       "    </tr>\n",
       "    <tr>\n",
       "      <th>2</th>\n",
       "      <td>L04</td>\n",
       "    </tr>\n",
       "    <tr>\n",
       "      <th>3</th>\n",
       "      <td>LRO</td>\n",
       "    </tr>\n",
       "    <tr>\n",
       "      <th>4</th>\n",
       "      <td>L00</td>\n",
       "    </tr>\n",
       "    <tr>\n",
       "      <th>6</th>\n",
       "      <td>L02</td>\n",
       "    </tr>\n",
       "    <tr>\n",
       "      <th>7</th>\n",
       "      <td>FN0</td>\n",
       "    </tr>\n",
       "    <tr>\n",
       "      <th>8</th>\n",
       "      <td>L99</td>\n",
       "    </tr>\n",
       "    <tr>\n",
       "      <th>9</th>\n",
       "      <td>L-1</td>\n",
       "    </tr>\n",
       "  </tbody>\n",
       "</table>\n",
       "</div>"
      ],
      "text/plain": [
       "   value\n",
       "0    L01\n",
       "1    L03\n",
       "10   FN1\n",
       "11   LEA\n",
       "12   LRA\n",
       "2    L04\n",
       "3    LRO\n",
       "4    L00\n",
       "6    L02\n",
       "7    FN0\n",
       "8    L99\n",
       "9    L-1"
      ]
     },
     "execution_count": 48,
     "metadata": {},
     "output_type": "execute_result"
    }
   ],
   "source": [
    "levels = levels.drop(index=5)\n",
    "levels"
   ]
  },
  {
   "cell_type": "code",
   "execution_count": 65,
   "metadata": {},
   "outputs": [],
   "source": [
    "keys = []\n",
    "for building in buildings['value']:\n",
    "    for level in levels['value']:\n",
    "        tmp = building + \"_\" + level\n",
    "        keys.append(tmp)\n",
    "\n",
    "my_dict = {}\n",
    "for key in keys:\n",
    "    my_dict[key] = []"
   ]
  },
  {
   "cell_type": "code",
   "execution_count": 68,
   "metadata": {},
   "outputs": [],
   "source": [
    "wrong_rooms = []\n",
    "i = 0\n",
    "for room in revit_rooms['object_id']:\n",
    "    # count number of rows with that room id\n",
    "    count = len(data.loc[data['object_id'] == room])\n",
    "    if count != 3:\n",
    "        wrong_rooms.append(room)\n",
    "        i += count\n",
    "        continue\n",
    "    key = data['value'][i] + \"_\" + data['value'][i+1]\n",
    "    tmp = [data['object_id'][i], data['value'][i+2]]\n",
    "    my_dict[key].append(tmp)\n",
    "    i += 3"
   ]
  },
  {
   "cell_type": "code",
   "execution_count": 70,
   "metadata": {},
   "outputs": [
    {
     "data": {
      "text/plain": [
       "77"
      ]
     },
     "execution_count": 70,
     "metadata": {},
     "output_type": "execute_result"
    }
   ],
   "source": [
    "len(wrong_rooms)"
   ]
  },
  {
   "cell_type": "code",
   "execution_count": 119,
   "metadata": {},
   "outputs": [],
   "source": [
    "wrong_types = {}\n",
    "for wrong_room in wrong_rooms:\n",
    "    tmp = data.loc[data['object_id'] == wrong_room]\n",
    "    tmp = tmp.loc[tmp['name'] == 'Name'].iat[0,2]\n",
    "    wrong_types[tmp] = 'present'"
   ]
  },
  {
   "cell_type": "code",
   "execution_count": 120,
   "metadata": {},
   "outputs": [
    {
     "data": {
      "text/plain": [
       "{'Skakt EL': 'present',\n",
       " 'Forberedelse': 'present',\n",
       " 'Forberedt for rørpost': 'present',\n",
       " 'Teknikrum': 'present',\n",
       " 'Rørpost': 'present',\n",
       " 'Taskeskab': 'present',\n",
       " 'Ren zone, Elevator': 'present',\n",
       " 'Room': 'present',\n",
       " 'Teknikrum vand': 'present',\n",
       " 'Forrum': 'present',\n",
       " 'Laboratorium': 'present',\n",
       " 'Skakt VVS/Ventilation': 'present',\n",
       " 'Korridor': 'present',\n",
       " 'Fryserum': 'present',\n",
       " 'AGV rum': 'present'}"
      ]
     },
     "execution_count": 120,
     "metadata": {},
     "output_type": "execute_result"
    }
   ],
   "source": [
    "wrong_types"
   ]
  },
  {
   "cell_type": "code",
   "execution_count": 81,
   "metadata": {},
   "outputs": [],
   "source": [
    "query = \"SELECT name, value FROM properties WHERE object_id = '\" + wrong_rooms[0] + \"' ORDER BY name\"\n",
    "wrong_room = pd.read_sql_query(query, conn)"
   ]
  },
  {
   "cell_type": "code",
   "execution_count": 82,
   "metadata": {},
   "outputs": [],
   "source": [
    "wrong_room.to_csv(r'C:\\Users\\Administrator\\Desktop\\ATI_project\\database files\\wrong_room.csv', index = False)"
   ]
  },
  {
   "cell_type": "code",
   "execution_count": null,
   "metadata": {},
   "outputs": [],
   "source": []
  },
  {
   "cell_type": "code",
   "execution_count": null,
   "metadata": {},
   "outputs": [],
   "source": []
  },
  {
   "cell_type": "code",
   "execution_count": null,
   "metadata": {},
   "outputs": [],
   "source": []
  },
  {
   "cell_type": "code",
   "execution_count": null,
   "metadata": {},
   "outputs": [],
   "source": [
    "conn.close()"
   ]
  },
  {
   "cell_type": "markdown",
   "metadata": {},
   "source": [
    "## GAN"
   ]
  },
  {
   "cell_type": "code",
   "execution_count": null,
   "metadata": {},
   "outputs": [],
   "source": [
    "import torch\n",
    "from torch import nn\n",
    "\n",
    "import math\n",
    "import matplotlib.pyplot as plt"
   ]
  },
  {
   "cell_type": "code",
   "execution_count": null,
   "metadata": {},
   "outputs": [],
   "source": [
    "torch.manual_seed(111)"
   ]
  },
  {
   "cell_type": "code",
   "execution_count": null,
   "metadata": {},
   "outputs": [],
   "source": [
    "train_data_length = 1024\n",
    "train_data = torch.zeros((train_data_length, 2))\n",
    "train_data[:, 0] = 2 * math.pi * torch.rand(train_data_length)\n",
    "train_data[:, 1] = torch.sin(train_data[:, 0])\n",
    "train_labels = torch.zeros(train_data_length)\n",
    "train_set = [\n",
    "    (train_data[i], train_labels[i]) for i in range(train_data_length)\n",
    "]"
   ]
  },
  {
   "cell_type": "code",
   "execution_count": null,
   "metadata": {},
   "outputs": [],
   "source": [
    "plt.plot(train_data[:, 0], train_data[:, 1], \".\")"
   ]
  },
  {
   "cell_type": "code",
   "execution_count": null,
   "metadata": {},
   "outputs": [],
   "source": [
    "batch_size = 32\n",
    "train_loader = torch.utils.data.DataLoader(\n",
    "    train_set, batch_size=batch_size, shuffle=True\n",
    ")"
   ]
  },
  {
   "cell_type": "code",
   "execution_count": null,
   "metadata": {},
   "outputs": [],
   "source": [
    "class Discriminator(nn.Module):\n",
    "    def __init__(self):\n",
    "        super().__init__()\n",
    "        self.model = nn.Sequential(\n",
    "            nn.Linear(2, 256),\n",
    "            nn.ReLU(),\n",
    "            nn.Dropout(0.3),\n",
    "            nn.Linear(256, 128),\n",
    "            nn.ReLU(),\n",
    "            nn.Dropout(0.3),\n",
    "            nn.Linear(128, 64),\n",
    "            nn.ReLU(),\n",
    "            nn.Dropout(0.3),\n",
    "            nn.Linear(64, 1),\n",
    "            nn.Sigmoid(),\n",
    "        )\n",
    "\n",
    "    def forward(self, x):\n",
    "        output = self.model(x)\n",
    "        return output\n",
    "\n",
    "discriminator = Discriminator()"
   ]
  },
  {
   "cell_type": "code",
   "execution_count": null,
   "metadata": {},
   "outputs": [],
   "source": [
    "class Generator(nn.Module):\n",
    "    def __init__(self):\n",
    "        super().__init__()\n",
    "        self.model = nn.Sequential(\n",
    "            nn.Linear(2, 16),\n",
    "            nn.ReLU(),\n",
    "            nn.Linear(16, 32),\n",
    "            nn.ReLU(),\n",
    "            nn.Linear(32, 2),\n",
    "        )\n",
    "\n",
    "    def forward(self, x):\n",
    "        output = self.model(x)\n",
    "        return output\n",
    "\n",
    "generator = Generator()"
   ]
  },
  {
   "cell_type": "code",
   "execution_count": null,
   "metadata": {},
   "outputs": [],
   "source": [
    "lr = 0.001\n",
    "num_epochs = 300\n",
    "loss_function = nn.BCELoss()"
   ]
  },
  {
   "cell_type": "code",
   "execution_count": null,
   "metadata": {},
   "outputs": [],
   "source": [
    "optimizer_discriminator = torch.optim.Adam(discriminator.parameters(), lr=lr)\n",
    "optimizer_generator = torch.optim.Adam(generator.parameters(), lr=lr)"
   ]
  },
  {
   "cell_type": "code",
   "execution_count": null,
   "metadata": {},
   "outputs": [],
   "source": [
    "for epoch in range(num_epochs):\n",
    "    for n, (real_samples, _) in enumerate(train_loader):\n",
    "        # Data for training the discriminator\n",
    "        real_samples_labels = torch.ones((batch_size, 1))\n",
    "        latent_space_samples = torch.randn((batch_size, 2))\n",
    "        generated_samples = generator(latent_space_samples)\n",
    "        generated_samples_labels = torch.zeros((batch_size, 1))\n",
    "        all_samples = torch.cat((real_samples, generated_samples))\n",
    "        all_samples_labels = torch.cat(\n",
    "            (real_samples_labels, generated_samples_labels)\n",
    "        )\n",
    "\n",
    "        # Training the discriminator\n",
    "        discriminator.zero_grad()\n",
    "        output_discriminator = discriminator(all_samples)\n",
    "        loss_discriminator = loss_function(\n",
    "            output_discriminator, all_samples_labels)\n",
    "        loss_discriminator.backward()\n",
    "        optimizer_discriminator.step()\n",
    "\n",
    "        # Data for training the generator\n",
    "        latent_space_samples = torch.randn((batch_size, 2))\n",
    "\n",
    "        # Training the generator\n",
    "        generator.zero_grad()\n",
    "        generated_samples = generator(latent_space_samples)\n",
    "        output_discriminator_generated = discriminator(generated_samples)\n",
    "        loss_generator = loss_function(\n",
    "            output_discriminator_generated, real_samples_labels\n",
    "        )\n",
    "        loss_generator.backward()\n",
    "        optimizer_generator.step()\n",
    "\n",
    "        # Show loss\n",
    "        if epoch % 10 == 0 and n == batch_size - 1:\n",
    "            print(f\"Epoch: {epoch} Loss D.: {loss_discriminator}\")\n",
    "            print(f\"Epoch: {epoch} Loss G.: {loss_generator}\")"
   ]
  },
  {
   "cell_type": "code",
   "execution_count": null,
   "metadata": {},
   "outputs": [],
   "source": [
    "latent_space_samples = torch.randn(100, 2)\n",
    "generated_samples = generator(latent_space_samples)"
   ]
  },
  {
   "cell_type": "code",
   "execution_count": null,
   "metadata": {},
   "outputs": [],
   "source": [
    "generated_samples"
   ]
  },
  {
   "cell_type": "code",
   "execution_count": null,
   "metadata": {},
   "outputs": [],
   "source": [
    "generated_samples = generated_samples.detach()\n",
    "plt.plot(generated_samples[:, 0], generated_samples[:, 1], \".\")"
   ]
  },
  {
   "cell_type": "code",
   "execution_count": null,
   "metadata": {},
   "outputs": [],
   "source": [
    "import torch\n",
    "from torch import nn\n",
    "\n",
    "import math\n",
    "import matplotlib.pyplot as plt\n",
    "import torchvision\n",
    "import torchvision.transforms as transforms\n",
    "\n",
    "\n",
    "torch.manual_seed(111)\n",
    "\n",
    "\n",
    "device = \"\"\n",
    "if torch.cuda.is_available():\n",
    "    device = torch.device(\"cuda\")\n",
    "else:\n",
    "    device = torch.device(\"cpu\")\n",
    "\n",
    "\n",
    "transform = transforms.Compose(\n",
    "    [transforms.ToTensor(), transforms.Normalize((0.5,), (0.5,))]\n",
    ")\n",
    "\n",
    "\n",
    "train_set = torchvision.datasets.MNIST(\n",
    "    root=\".\", train=True, download=True, transform=transform\n",
    ")\n",
    "\n",
    "\n",
    "batch_size = 32\n",
    "train_loader = torch.utils.data.DataLoader(\n",
    "    train_set, batch_size=batch_size, shuffle=True\n",
    ")\n",
    "\n",
    "\n",
    "real_samples, mnist_labels = next(iter(train_loader))\n",
    "for i in range(16):\n",
    "    ax = plt.subplot(4, 4, i + 1)\n",
    "    plt.imshow(real_samples[i].reshape(28, 28), cmap=\"gray_r\")\n",
    "    plt.xticks([])\n",
    "    plt.yticks([])"
   ]
  },
  {
   "cell_type": "code",
   "execution_count": null,
   "metadata": {},
   "outputs": [],
   "source": [
    "class Discriminator(nn.Module):\n",
    "    def __init__(self):\n",
    "        super().__init__()\n",
    "        self.model = nn.Sequential(\n",
    "            nn.Linear(784, 1024),\n",
    "            nn.ReLU(),\n",
    "            nn.Dropout(0.3),\n",
    "            nn.Linear(1024, 512),\n",
    "            nn.ReLU(),\n",
    "            nn.Dropout(0.3),\n",
    "            nn.Linear(512, 256),\n",
    "            nn.ReLU(),\n",
    "            nn.Dropout(0.3),\n",
    "            nn.Linear(256, 1),\n",
    "            nn.Sigmoid(),\n",
    "        )\n",
    "\n",
    "    def forward(self, x):\n",
    "        x = x.view(x.size(0), 784)\n",
    "        output = self.model(x)\n",
    "        return output\n",
    "\n",
    "discriminator = Discriminator().to(device=device)\n",
    "\n",
    "\n",
    "class Generator(nn.Module):\n",
    "    def __init__(self):\n",
    "        super().__init__()\n",
    "        self.model = nn.Sequential(\n",
    "            nn.Linear(100, 256),\n",
    "            nn.ReLU(),\n",
    "            nn.Linear(256, 512),\n",
    "            nn.ReLU(),\n",
    "            nn.Linear(512, 1024),\n",
    "            nn.ReLU(),\n",
    "            nn.Linear(1024, 784),\n",
    "            nn.Tanh(),\n",
    "        )\n",
    "\n",
    "    def forward(self, x):\n",
    "        output = self.model(x)\n",
    "        output = output.view(x.size(0), 1, 28, 28)\n",
    "        return output\n",
    "\n",
    "generator = Generator().to(device=device)"
   ]
  },
  {
   "cell_type": "code",
   "execution_count": null,
   "metadata": {},
   "outputs": [],
   "source": [
    "lr = 0.0001\n",
    "num_epochs = 50\n",
    "loss_function = nn.BCELoss()\n",
    "\n",
    "optimizer_discriminator = torch.optim.Adam(discriminator.parameters(), lr=lr)\n",
    "optimizer_generator = torch.optim.Adam(generator.parameters(), lr=lr)"
   ]
  },
  {
   "cell_type": "code",
   "execution_count": null,
   "metadata": {},
   "outputs": [],
   "source": [
    "for epoch in range(num_epochs):\n",
    "    for n, (real_samples, mnist_labels) in enumerate(train_loader):\n",
    "        # Data for training the discriminator\n",
    "        real_samples = real_samples.to(device=device)\n",
    "        real_samples_labels = torch.ones((batch_size, 1)).to(\n",
    "            device=device\n",
    "        )\n",
    "        latent_space_samples = torch.randn((batch_size, 100)).to(\n",
    "            device=device\n",
    "        )\n",
    "        generated_samples = generator(latent_space_samples)\n",
    "        generated_samples_labels = torch.zeros((batch_size, 1)).to(\n",
    "            device=device\n",
    "        )\n",
    "        all_samples = torch.cat((real_samples, generated_samples))\n",
    "        all_samples_labels = torch.cat(\n",
    "            (real_samples_labels, generated_samples_labels)\n",
    "        )\n",
    "\n",
    "        # Training the discriminator\n",
    "        discriminator.zero_grad()\n",
    "        output_discriminator = discriminator(all_samples)\n",
    "        loss_discriminator = loss_function(\n",
    "            output_discriminator, all_samples_labels\n",
    "        )\n",
    "        loss_discriminator.backward()\n",
    "        optimizer_discriminator.step()\n",
    "\n",
    "        # Data for training the generator\n",
    "        latent_space_samples = torch.randn((batch_size, 100)).to(\n",
    "            device=device\n",
    "        )\n",
    "\n",
    "        # Training the generator\n",
    "        generator.zero_grad()\n",
    "        generated_samples = generator(latent_space_samples)\n",
    "        output_discriminator_generated = discriminator(generated_samples)\n",
    "        loss_generator = loss_function(\n",
    "            output_discriminator_generated, real_samples_labels\n",
    "        )\n",
    "        loss_generator.backward()\n",
    "        optimizer_generator.step()\n",
    "\n",
    "        # Show loss\n",
    "        if n == batch_size - 1:\n",
    "            print(f\"Epoch: {epoch} Loss D.: {loss_discriminator}\")\n",
    "            print(f\"Epoch: {epoch} Loss G.: {loss_generator}\")"
   ]
  },
  {
   "cell_type": "code",
   "execution_count": null,
   "metadata": {},
   "outputs": [],
   "source": []
  },
  {
   "cell_type": "markdown",
   "metadata": {},
   "source": [
    "## Creating json\n",
    "\n",
    "<ol>\n",
    "  <li>Input is an image from RPLAN dataset</li>\n",
    "  <li>Read image and get room type and coordinates of walls, last entry is just index of room, poly is number of walls for each room/door; in walls just need to add -1 in position 4, -1 in position 7 and 0 in position 8</li>\n",
    "  <li>From DB I can get all info given by read_data, i.e. room type and walls/doors from coordinates</li>\n",
    "  <li>Then transform such output to json with raster_to_join function</li>\n",
    "</ol>"
   ]
  },
  {
   "cell_type": "code",
   "execution_count": 61,
   "metadata": {},
   "outputs": [],
   "source": [
    "line = r'C:\\Users\\Administrator\\Desktop\\Example data\\0.png'"
   ]
  },
  {
   "cell_type": "code",
   "execution_count": 2,
   "metadata": {},
   "outputs": [],
   "source": [
    "from matplotlib import pyplot as plt\n",
    "\n",
    "def floor_plan(walls):\n",
    "\n",
    "    fig = plt.figure()\n",
    "    \n",
    "    for line in walls:\n",
    "        plt.plot([line[0], line[2]], [-line[1], -line[3]], color='black')\n",
    "\n",
    "    plt.ylim([-256, 0])\n",
    "    plt.xlim([0, 256])\n",
    "\n",
    "    fig.set_size_inches(12, 12)"
   ]
  },
  {
   "cell_type": "code",
   "execution_count": 121,
   "metadata": {},
   "outputs": [
    {
     "data": {
      "text/plain": [
       "([3, 4, 1, 3, 2, 5, 17, 17, 17, 17, 17, 15],\n",
       " [4, 4, 12, 4, 4, 4, 4, 4, 4, 4, 4, 4],\n",
       " [[108.0, 145.0, 108.0, 155.0],\n",
       "  [108.0, 155.0, 110.0, 155.0],\n",
       "  [110.0, 155.0, 110.0, 145.0],\n",
       "  [110.0, 145.0, 108.0, 145.0],\n",
       "  [114.0, 158.0, 114.0, 160.0],\n",
       "  [114.0, 160.0, 125.0, 160.0],\n",
       "  [125.0, 160.0, 125.0, 158.0],\n",
       "  [125.0, 158.0, 114.0, 158.0],\n",
       "  [114.0, 127.0, 114.0, 129.0],\n",
       "  [114.0, 129.0, 124.0, 129.0],\n",
       "  [124.0, 129.0, 124.0, 127.0],\n",
       "  [124.0, 127.0, 114.0, 127.0],\n",
       "  [145.0, 60.0, 145.0, 84.0],\n",
       "  [145.0, 84.0, 147.0, 84.0],\n",
       "  [147.0, 84.0, 147.0, 60.0],\n",
       "  [147.0, 60.0, 145.0, 60.0],\n",
       "  [134.0, 204.0, 134.0, 206.0],\n",
       "  [134.0, 206.0, 178.0, 206.0],\n",
       "  [178.0, 206.0, 178.0, 204.0],\n",
       "  [178.0, 204.0, 134.0, 204.0],\n",
       "  [165.0, 38.0, 165.0, 52.0],\n",
       "  [165.0, 52.0, 167.0, 52.0],\n",
       "  [167.0, 52.0, 167.0, 38.0],\n",
       "  [167.0, 38.0, 165.0, 38.0]],\n",
       " [[72.0, 161.0, 72.0, 220.0, -1, 3, 0, -1, 0],\n",
       "  [72.0, 220.0, 124.0, 220.0, -1, 3, 0, -1, 0],\n",
       "  [124.0, 220.0, 124.0, 161.0, -1, 3, 0, -1, 0],\n",
       "  [124.0, 161.0, 72.0, 161.0, -1, 3, 0, -1, 0],\n",
       "  [72.0, 130.0, 72.0, 157.0, -1, 4, 1, -1, 0],\n",
       "  [72.0, 157.0, 107.0, 157.0, -1, 4, 1, -1, 0],\n",
       "  [107.0, 157.0, 107.0, 130.0, -1, 4, 1, -1, 0],\n",
       "  [107.0, 130.0, 72.0, 130.0, -1, 4, 1, -1, 0],\n",
       "  [148.0, 28.0, 148.0, 87.0, -1, 1, 2, -1, 0],\n",
       "  [148.0, 87.0, 128.0, 87.0, -1, 1, 2, -1, 0],\n",
       "  [128.0, 87.0, 128.0, 130.0, -1, 1, 2, -1, 0],\n",
       "  [128.0, 130.0, 111.0, 130.0, -1, 1, 2, -1, 0],\n",
       "  [111.0, 130.0, 111.0, 157.0, -1, 1, 2, -1, 0],\n",
       "  [111.0, 157.0, 128.0, 157.0, -1, 1, 2, -1, 0],\n",
       "  [128.0, 157.0, 128.0, 203.0, -1, 1, 2, -1, 0],\n",
       "  [128.0, 203.0, 184.0, 203.0, -1, 1, 2, -1, 0],\n",
       "  [184.0, 203.0, 184.0, 87.0, -1, 1, 2, -1, 0],\n",
       "  [184.0, 87.0, 164.0, 87.0, -1, 1, 2, -1, 0],\n",
       "  [164.0, 87.0, 164.0, 28.0, -1, 1, 2, -1, 0],\n",
       "  [164.0, 28.0, 148.0, 28.0, -1, 1, 2, -1, 0],\n",
       "  [72.0, 87.0, 72.0, 126.0, -1, 3, 3, -1, 0],\n",
       "  [72.0, 126.0, 124.0, 126.0, -1, 3, 3, -1, 0],\n",
       "  [124.0, 126.0, 124.0, 87.0, -1, 3, 3, -1, 0],\n",
       "  [124.0, 87.0, 72.0, 87.0, -1, 3, 3, -1, 0],\n",
       "  [115.0, 53.0, 115.0, 83.0, -1, 2, 4, -1, 0],\n",
       "  [115.0, 83.0, 144.0, 83.0, -1, 2, 4, -1, 0],\n",
       "  [144.0, 83.0, 144.0, 53.0, -1, 2, 4, -1, 0],\n",
       "  [144.0, 53.0, 115.0, 53.0, -1, 2, 4, -1, 0],\n",
       "  [128.0, 207.0, 128.0, 228.0, -1, 5, 5, -1, 0],\n",
       "  [128.0, 228.0, 184.0, 228.0, -1, 5, 5, -1, 0],\n",
       "  [184.0, 228.0, 184.0, 207.0, -1, 5, 5, -1, 0],\n",
       "  [184.0, 207.0, 128.0, 207.0, -1, 5, 5, -1, 0],\n",
       "  [108.0, 145.0, 108.0, 155.0, -1, 17, 6, -1, 0],\n",
       "  [108.0, 155.0, 110.0, 155.0, -1, 17, 6, -1, 0],\n",
       "  [110.0, 155.0, 110.0, 145.0, -1, 17, 6, -1, 0],\n",
       "  [110.0, 145.0, 108.0, 145.0, -1, 17, 6, -1, 0],\n",
       "  [114.0, 158.0, 114.0, 160.0, -1, 17, 7, -1, 0],\n",
       "  [114.0, 160.0, 125.0, 160.0, -1, 17, 7, -1, 0],\n",
       "  [125.0, 160.0, 125.0, 158.0, -1, 17, 7, -1, 0],\n",
       "  [125.0, 158.0, 114.0, 158.0, -1, 17, 7, -1, 0],\n",
       "  [114.0, 127.0, 114.0, 129.0, -1, 17, 8, -1, 0],\n",
       "  [114.0, 129.0, 124.0, 129.0, -1, 17, 8, -1, 0],\n",
       "  [124.0, 129.0, 124.0, 127.0, -1, 17, 8, -1, 0],\n",
       "  [124.0, 127.0, 114.0, 127.0, -1, 17, 8, -1, 0],\n",
       "  [145.0, 60.0, 145.0, 84.0, -1, 17, 9, -1, 0],\n",
       "  [145.0, 84.0, 147.0, 84.0, -1, 17, 9, -1, 0],\n",
       "  [147.0, 84.0, 147.0, 60.0, -1, 17, 9, -1, 0],\n",
       "  [147.0, 60.0, 145.0, 60.0, -1, 17, 9, -1, 0],\n",
       "  [134.0, 204.0, 134.0, 206.0, -1, 17, 10, -1, 0],\n",
       "  [134.0, 206.0, 178.0, 206.0, -1, 17, 10, -1, 0],\n",
       "  [178.0, 206.0, 178.0, 204.0, -1, 17, 10, -1, 0],\n",
       "  [178.0, 204.0, 134.0, 204.0, -1, 17, 10, -1, 0],\n",
       "  [165.0, 38.0, 165.0, 52.0, -1, 15, 11, -1, 0],\n",
       "  [165.0, 52.0, 167.0, 52.0, -1, 15, 11, -1, 0],\n",
       "  [167.0, 52.0, 167.0, 38.0, -1, 15, 11, -1, 0],\n",
       "  [167.0, 38.0, 165.0, 38.0, -1, 15, 11, -1, 0]],\n",
       " 1)"
      ]
     },
     "execution_count": 121,
     "metadata": {},
     "output_type": "execute_result"
    }
   ],
   "source": [
    "import numpy as np\n",
    "from data_reader.read_dd import read_data\n",
    "\n",
    "rms_type,poly,doors,walls,out = read_data(line)\n",
    "rms_type,poly,doors,walls,out"
   ]
  },
  {
   "cell_type": "code",
   "execution_count": 153,
   "metadata": {},
   "outputs": [],
   "source": [
    "coords = []\n",
    "for row in walls:\n",
    "    coords.append(row[0:2])"
   ]
  },
  {
   "cell_type": "code",
   "execution_count": 150,
   "metadata": {},
   "outputs": [],
   "source": [
    "def my_read_data(coords, rms_type):\n",
    "    '''\n",
    "    fetch relevant data of a floor plan from database and distribute it to\n",
    "    rms_type, poly, doors, walls\n",
    "    '''\n",
    "\n",
    "    '''\n",
    "    get_coords = \"SELECT * FROM\"\n",
    "    coords = mysqlconnect(get_coords) # am I getting all corners of a room and then all of the next one?\n",
    "    get_rooms = \"SELECT * FROM\"\n",
    "    rms_type = mysqlconnect(get_rooms) # are rooms type ordered according to rooms coords?\n",
    "    '''\n",
    "\n",
    "    poly = [] # if coords are x and y, just count how many xy couples you have to get n. of walls\n",
    "              # do I know it already from database?\n",
    "    doors = [] # do I have them as well? Like walls need coordinates, if you at least know what rooms they connect you can add them yourself\n",
    "    walls = []\n",
    "\n",
    "    idx = 0 # room number\n",
    "    _poly = 0 # counting n. of walls\n",
    "    for i in range(len(coords)-1):\n",
    "        # how is SQL data structured? If I have coords of corners of rooms I just need to put them together\n",
    "        if (coords[i][0] != coords[i+1][0] and coords[i][1] != coords[i+1][1]):\n",
    "            _poly += 1\n",
    "            poly.append(_poly)\n",
    "            walls.append([coords[i][0], coords[i][1], coords[i-_poly+1][0], coords[i-_poly+1][1], -1, rms_type[idx], idx, -1, 0]) # include last wall of room idx\n",
    "            _poly = 0 # restart walls count\n",
    "            idx += 1 # next room\n",
    "            continue\n",
    "        _poly += 1\n",
    "        walls.append([coords[i][0], coords[i][1], coords[i+1][0], coords[i+1][1], -1, rms_type[idx], idx, -1, 0])\n",
    "        \n",
    "    # count and add last wall\n",
    "    _poly += 1\n",
    "    poly.append(_poly)\n",
    "    i += 1\n",
    "    walls.append([coords[i][0], coords[i][1], coords[i-_poly+1][0], coords[i-_poly+1][1], -1, rms_type[idx], idx, -1, 0]) # append very last wall\n",
    "    # same as above for doors\n",
    "    #doors\n",
    "    \n",
    "    return rms_type,poly,doors,walls"
   ]
  },
  {
   "cell_type": "code",
   "execution_count": 151,
   "metadata": {},
   "outputs": [],
   "source": [
    "rms_type1,poly1,doors1,walls1 = my_read_data(coords,rms_type)"
   ]
  },
  {
   "cell_type": "code",
   "execution_count": 3,
   "metadata": {},
   "outputs": [],
   "source": [
    "#removed original plot, added custom and changed name of output file, removed parse_args\n",
    "\n",
    "from shapely.geometry import Polygon\n",
    "import json\n",
    "import numpy as np\n",
    "from data_reader.read_dd import read_data\n",
    "\n",
    "def raster_to_json(line):\n",
    "    \"\"\" convert extracted data from rasters to housegan ++ data format :  extract rooms type, bbox, doors, edges and neigbour rooms\n",
    "                \n",
    "    \"\"\"\n",
    "    #fig = plt.figure()\n",
    "    #ax = fig.add_subplot(1, 1, 1)\n",
    "    bbox_x1=[]\n",
    "    bbox_y1=[]\n",
    "    bbox_x2=[]\n",
    "    bbox_y2=[]\n",
    "    walls=[]\n",
    "\n",
    "    room_type,poly,doors_, walls,out=read_data(line)\n",
    "    d=[]\n",
    "    all_doors=[]\n",
    "    for i in range(1,len(doors_)+1):\n",
    "        if((i)%4==0 ) & (i+1!=1):\n",
    "            d.append(doors_[i-1])\n",
    "            all_doors.append(d)\n",
    "            d=[]\n",
    "        elif(i==1):\n",
    "            d=[]\n",
    "        if(i%4!=0):\n",
    "            d.append(doors_[i-1])\n",
    "    kh=0\n",
    "    al_dr=0\n",
    "    for hd in range(len(all_doors)):\n",
    "        dr_t=[]\n",
    "        dr_in=[]\n",
    "        doors=all_doors[hd]\n",
    "        d_t=2\n",
    "        t_x=abs(doors[0][1]-doors[1][1])\n",
    "        t_y=abs(doors[0][0]-doors[3][0])\n",
    "        ss=t_x\n",
    "        if(t_x>t_y):\n",
    "           d_t=1\n",
    "           ss=t_y\n",
    "        elif(t_x<t_y):\n",
    "           d_t=3\n",
    "        for pmc in range(5):\n",
    "            for dw in range(len(doors)):      \n",
    "                for nw in range(len(walls)) :\n",
    "                    if(walls[nw][5]==17):\n",
    "                        continue\n",
    "                    if(walls[nw][5]==15):\n",
    "                        continue\n",
    "                    if (d_t<=2) &(doors[dw][0]-doors[dw][2]<=1)& (walls[nw][0]-walls[nw][2]<=1)& (abs(doors[dw][0]-walls[nw][0])<=(ss-1)) & (abs(doors[dw][2]-walls[nw][2])<=(ss-1)): \n",
    "                        l=doors[dw][1]\n",
    "                        r=doors[dw][3]\n",
    "                        if(l>r):\n",
    "                            t=l\n",
    "                            l=r\n",
    "                            r=t\n",
    "                        l_=walls[nw][1]\n",
    "                        r_=walls[nw][3]\n",
    "                        if(l_>r_):\n",
    "                            t=l_\n",
    "                            l_=r_\n",
    "                            r_=t\n",
    "                        if (((r-r_)<=pmc )& (pmc>=(l_-l))) :\n",
    "                            if(len(dr_in)<2):\n",
    "                                if(walls[nw][6] not in dr_t):\n",
    "                                    dr_t.append(walls[nw][6])\n",
    "                                    dr_in.append(nw)\n",
    "                               \n",
    "                    elif (d_t>=2)& (doors[dw][1]-doors[dw][3]<=1)& (walls[nw][1]-walls[nw][3]<=1) &(abs(doors[dw][1]-walls[nw][1])<=(ss-1)) & (abs(doors[dw][3]-walls[nw][3])<=(ss-1)): \n",
    "                        l=doors[dw][0]\n",
    "                        r=doors[dw][2]\n",
    "                        if(l>r):\n",
    "                            t=l\n",
    "                            l=r\n",
    "                            r=t\n",
    "                        l_=walls[nw][0]\n",
    "                        r_=walls[nw][2]\n",
    "                        if(l_>r_):\n",
    "                            t=l_\n",
    "                            l_=r_\n",
    "                            r_=t\n",
    "                        if(((r-r_)<=pmc )& (pmc>=(l_-l))):\n",
    "                            if(len(dr_in)<2):\n",
    "                                if(walls[nw][6] not in dr_t):\n",
    "                                    dr_t.append(walls[nw][6])\n",
    "                                    dr_in.append(nw)\n",
    "        if(len(dr_t)==2):\n",
    "            walls[dr_in[0]][8]=walls[dr_in[1]][5]\n",
    "            walls[dr_in[0]][7]=walls[dr_in[1]][6]    \n",
    "            walls[dr_in[1]][8]=walls[dr_in[0]][5]\n",
    "            walls[dr_in[1]][7]=walls[dr_in[0]][6]  \n",
    "            al_dr=al_dr+1\n",
    "                \n",
    "        else:\n",
    "            print(\"sometime not 2 dooor\",hd,doors)\t\t\n",
    "    \n",
    "        assert(len(dr_t)<=2)\n",
    "  \n",
    "\n",
    "    assert(al_dr==(len(all_doors)-1))\n",
    "    \n",
    "    \n",
    "    omn=[]\n",
    "    tr=0\n",
    "    en_pp=0\n",
    "    for nw in range(len(walls)-(len(all_doors)*4),len(walls)):\n",
    "        if(tr%4==0):\n",
    "            omn=[]\n",
    "        tr=tr+1\n",
    "        for kw in range(len(walls)-(len(all_doors)*4)+1):\n",
    "            if(walls[kw][5]==17)&(walls[nw][5]==17):\n",
    "                continue\t\t\n",
    "            if(walls[kw][5]==15)&(walls[nw][5]==15):\n",
    "                continue\t\t\n",
    "            if(walls[kw][5]==15)&(walls[nw][5]==17):\n",
    "                continue\t\t\n",
    "            for pmc in range (5):\n",
    "                if(abs(walls[kw][0]-walls[nw][0])<=(ss-1)) & (abs(walls[kw][2]-walls[nw][2])<=(ss-1)):\n",
    "                    l=walls[kw][1]\n",
    "                    r=walls[kw][3]\n",
    "                    if(l>r):\n",
    "                        t=l\n",
    "                        l=r\n",
    "                        r=t\n",
    "                    l_=walls[nw][1]\n",
    "                    r_=walls[nw][3]\n",
    "                    if(l_>r_):\n",
    "                        t=l_\n",
    "                        l_=r_\n",
    "                        r_=t\n",
    "                    if(pmc>=r_-r )& (l-l_<=pmc) &( nw!=kw):\n",
    "                        if(walls[nw][5]==17) &(walls[nw][8]==0)& (walls[kw][6] not in omn):\n",
    "                            walls[nw][8]=walls[kw][5]\n",
    "                            walls[nw][7]=walls[kw][6]    \n",
    "                            omn.append(walls[kw][6])\n",
    "                        if(walls[nw][5]==15) &(walls[nw][8]==0):\n",
    "                            walls[nw][8]=walls[kw][5]\n",
    "                            walls[nw][7]=walls[kw][6] \n",
    "                            en_pp=1 \n",
    "                 \n",
    "                if(abs(walls[kw][1]-walls[nw][1])<=(ss-1)) & (abs(walls[kw][3]-walls[nw][3])<=(ss-1)):\n",
    "                    l=walls[kw][0]\n",
    "                    r=walls[kw][2]\n",
    "                    if(l>r):\n",
    "                        t=l\n",
    "                        l=r\n",
    "                        r=t\n",
    "                    l_=walls[nw][0]\n",
    "                    r_=walls[nw][2]\n",
    "                    if(l_>r_):\n",
    "                        t=l_\n",
    "                        l_=r_\n",
    "                        r_=t\n",
    "                    if(pmc>=r_-r )& (l-l_<=pmc) &( nw!=kw):\n",
    "                        if(walls[nw][5]==17) & (walls[nw][8]==0)& (walls[kw][6] not in omn):\n",
    "                            walls[nw][8]=walls[kw][5]\n",
    "                            walls[nw][7]=walls[kw][6]    \n",
    "                            omn.append(walls[kw][6])\n",
    "                \n",
    "                        if(walls[nw][5]==15) & (walls[nw][8]==0):\n",
    "                            walls[nw][8]=walls[kw][5]\n",
    "                            walls[nw][7]=walls[kw][6]    \n",
    "                            en_pp=1\n",
    "         \n",
    "                    \n",
    "    for i in range(1):\n",
    "        for iw in range(len(walls)):\n",
    "            tp_out=-1\n",
    "            dif_x=10\n",
    "            dif_y=10\n",
    "\n",
    "            type_out=0\n",
    "        for jw in range(len(walls)):\n",
    "            if(walls[iw][0]==walls[iw][2]):\n",
    "                if (walls[jw][0]!=walls[jw][2]):\n",
    "                    continue\n",
    "                if ((walls[iw][0]-walls[jw][0])==(walls[iw][2]- walls[jw][2])):\n",
    "                    rnp=walls[jw][1]\n",
    "                    fnp=walls[jw][3]\n",
    "                    rmp=walls[iw][1]\n",
    "                    fmp=walls[iw][3]\n",
    "                    if( rnp<fnp):\n",
    "                        t=fnp\n",
    "                        fnp=rnp\n",
    "                        rnp=t\n",
    "                    if(rmp<fmp):\n",
    "                        t=fmp\n",
    "                        fmp=rmp\n",
    "                        rmp=t\n",
    "                    if(abs(rmp)<=abs(rnp))| (abs(fmp)<=abs(fnp)):\n",
    "                        dif_x_temp=walls[iw][0]-walls[jw][0]\n",
    "                        if(abs(dif_x)>abs(dif_x_temp)) & (iw!=jw):\n",
    "                            dif_x=dif_x_temp\n",
    "                            tp_out=walls[jw][6]\n",
    "                            type_out=walls[jw][5]\n",
    "                          \n",
    "            elif(walls[iw][1]==walls[iw][3]):\n",
    "                if ((walls[iw][1]-walls[jw][1])==(walls[iw][3]- walls[jw][3])) :           \n",
    "                    rnp=walls[jw][0]\n",
    "                    fnp=walls[jw][2]\n",
    "                    rmp=walls[iw][0]\n",
    "                    fmp=walls[iw][2]\n",
    "                    if( rnp<fnp):\n",
    "                        t=fnp\n",
    "                        fnp=rnp\n",
    "                        rnp=t\n",
    "                    if(rmp<fmp):\n",
    "                        t=fmp\n",
    "                        fmp=rmp\n",
    "                        rmp=t\n",
    "                    if(abs(rmp)<=abs(rnp))| (abs(fmp)<=abs(fnp)):\n",
    "                        dif_y_temp=walls[iw][1]-walls[jw][1]\n",
    "                        if(abs(dif_y)>abs(dif_y_temp))&( iw!=jw ):\n",
    "                            dif_y=dif_y_temp\n",
    "                            tp_out=walls[jw][6]\n",
    "                            type_out=walls[jw][5]\n",
    "      \n",
    "    km=0\n",
    "    assert(en_pp==1) #throwing out really strange layouts\n",
    "    \n",
    "    \n",
    "    lenx=1.0\n",
    "    leny=1.0\n",
    "    min_x=0.0\n",
    "    min_y=0.0\n",
    "    bboxes=[]  \n",
    "    edges=[]\n",
    "    ed_rm=[]\n",
    "    info=dict()\n",
    "\n",
    "    #  The edges for the graph\n",
    "    for w_i in range(len(walls)):\n",
    "        edges.append([((walls[w_i][0]-min_x)/lenx),((walls[w_i][1]-min_y)/leny),((walls[w_i][2]-min_x)/lenx),((walls[w_i][3]-min_y)/leny),walls[w_i][5],walls[w_i][8]])\n",
    "        if(walls[w_i][6]==-1):\n",
    "            ed_rm.append([walls[w_i][7]])\n",
    "        elif(walls[w_i][7]==-1): \n",
    "            ed_rm.append([walls[w_i][6]])\n",
    "        else:\n",
    "            ed_rm.append([walls[w_i][6],walls[w_i][7]])\n",
    "    \n",
    "    #  The bbox for room masks\n",
    "    for i in range(len(poly)):\n",
    "        p=poly[i]\n",
    "        pm=[]\n",
    "        for p_i in range((p)):\n",
    "            pm.append(([edges[km+p_i][0],edges[km+p_i][1]]))\n",
    "        km=km+p\n",
    "        polygon = Polygon(pm)\n",
    "        #plot_coords(ax, polygon.exterior, alpha=0)\n",
    "        bbox=np.asarray(polygon.bounds)\n",
    "        bboxes.append(bbox.tolist())\n",
    "     \n",
    "        \n",
    "        #patch = PolygonPatch(polygon, facecolor=semantics_cmap[\"bedroom\"], alpha=0.7)\n",
    "        #ax.add_patch(patch)\n",
    "    \n",
    "    floor_plan(walls)\n",
    "   \n",
    "    info['room_type'] = room_type\n",
    "    info['boxes'] = bboxes\n",
    "    info['edges'] = edges\n",
    "    info['ed_rm'] = ed_rm\n",
    "\n",
    "    print('\\n\\n', bboxes, '\\n\\n', edges, '\\n\\n', ed_rm)\n",
    "   \n",
    "  \n",
    "    ### saving json files\n",
    "    with open(line[:-4]+\".json\",\"w\") as f:\n",
    "         json.dump(info, f)\n",
    "    \n",
    "    return bboxes, edges, ed_rm"
   ]
  },
  {
   "cell_type": "code",
   "execution_count": 4,
   "metadata": {},
   "outputs": [
    {
     "name": "stdout",
     "output_type": "stream",
     "text": [
      "sometime not 2 dooor 5 [[165.0, 38.0, 165.0, 52.0], [165.0, 52.0, 167.0, 52.0], [167.0, 52.0, 167.0, 38.0], [167.0, 38.0, 165.0, 38.0]]\n",
      "\n",
      "\n",
      " [[72.0, 161.0, 124.0, 220.0], [72.0, 130.0, 107.0, 157.0], [111.0, 28.0, 184.0, 203.0], [72.0, 87.0, 124.0, 126.0], [115.0, 53.0, 144.0, 83.0], [128.0, 207.0, 184.0, 228.0], [108.0, 145.0, 110.0, 155.0], [114.0, 158.0, 125.0, 160.0], [114.0, 127.0, 124.0, 129.0], [145.0, 60.0, 147.0, 84.0], [134.0, 204.0, 178.0, 206.0], [165.0, 38.0, 167.0, 52.0]] \n",
      "\n",
      " [[72.0, 161.0, 72.0, 220.0, 3, 0], [72.0, 220.0, 124.0, 220.0, 3, 0], [124.0, 220.0, 124.0, 161.0, 3, 0], [124.0, 161.0, 72.0, 161.0, 3, 1], [72.0, 130.0, 72.0, 157.0, 4, 0], [72.0, 157.0, 107.0, 157.0, 4, 0], [107.0, 157.0, 107.0, 130.0, 4, 1], [107.0, 130.0, 72.0, 130.0, 4, 0], [148.0, 28.0, 148.0, 87.0, 1, 2], [148.0, 87.0, 128.0, 87.0, 1, 0], [128.0, 87.0, 128.0, 130.0, 1, 0], [128.0, 130.0, 111.0, 130.0, 1, 3], [111.0, 130.0, 111.0, 157.0, 1, 4], [111.0, 157.0, 128.0, 157.0, 1, 3], [128.0, 157.0, 128.0, 203.0, 1, 0], [128.0, 203.0, 184.0, 203.0, 1, 5], [184.0, 203.0, 184.0, 87.0, 1, 0], [184.0, 87.0, 164.0, 87.0, 1, 0], [164.0, 87.0, 164.0, 28.0, 1, 0], [164.0, 28.0, 148.0, 28.0, 1, 0], [72.0, 87.0, 72.0, 126.0, 3, 0], [72.0, 126.0, 124.0, 126.0, 3, 1], [124.0, 126.0, 124.0, 87.0, 3, 0], [124.0, 87.0, 72.0, 87.0, 3, 0], [115.0, 53.0, 115.0, 83.0, 2, 0], [115.0, 83.0, 144.0, 83.0, 2, 0], [144.0, 83.0, 144.0, 53.0, 2, 1], [144.0, 53.0, 115.0, 53.0, 2, 0], [128.0, 207.0, 128.0, 228.0, 5, 0], [128.0, 228.0, 184.0, 228.0, 5, 0], [184.0, 228.0, 184.0, 207.0, 5, 0], [184.0, 207.0, 128.0, 207.0, 5, 1], [108.0, 145.0, 108.0, 155.0, 17, 4], [108.0, 155.0, 110.0, 155.0, 17, 0], [110.0, 155.0, 110.0, 145.0, 17, 1], [110.0, 145.0, 108.0, 145.0, 17, 0], [114.0, 158.0, 114.0, 160.0, 17, 0], [114.0, 160.0, 125.0, 160.0, 17, 3], [125.0, 160.0, 125.0, 158.0, 17, 0], [125.0, 158.0, 114.0, 158.0, 17, 1], [114.0, 127.0, 114.0, 129.0, 17, 0], [114.0, 129.0, 124.0, 129.0, 17, 1], [124.0, 129.0, 124.0, 127.0, 17, 3], [124.0, 127.0, 114.0, 127.0, 17, 0], [145.0, 60.0, 145.0, 84.0, 17, 2], [145.0, 84.0, 147.0, 84.0, 17, 0], [147.0, 84.0, 147.0, 60.0, 17, 1], [147.0, 60.0, 145.0, 60.0, 17, 0], [134.0, 204.0, 134.0, 206.0, 17, 0], [134.0, 206.0, 178.0, 206.0, 17, 5], [178.0, 206.0, 178.0, 204.0, 17, 0], [178.0, 204.0, 134.0, 204.0, 17, 1], [165.0, 38.0, 165.0, 52.0, 15, 1], [165.0, 52.0, 167.0, 52.0, 15, 0], [167.0, 52.0, 167.0, 38.0, 15, 0], [167.0, 38.0, 165.0, 38.0, 15, 0]] \n",
      "\n",
      " [[0], [0], [0], [0, 2], [1], [1], [1, 2], [1], [2, 4], [2], [2], [2, 3], [2, 1], [2, 0], [2], [2, 5], [2], [2], [2], [2], [3], [3, 2], [3], [3], [4], [4], [4, 2], [4], [5], [5], [5], [5, 2], [6, 1], [6], [6, 2], [6], [7], [7, 0], [7], [7, 2], [8], [8, 2], [8, 3], [8], [9, 4], [9], [9, 2], [9], [10], [10, 5], [10], [10, 2], [11, 2], [11], [11], [11]]\n"
     ]
    },
    {
     "data": {
      "image/png": "[encoded data removed]",
      "text/plain": [
       "<Figure size 864x864 with 1 Axes>"
      ]
     },
     "metadata": {
      "needs_background": "light"
     },
     "output_type": "display_data"
    }
   ],
   "source": [
    "bboxes, edges, ed_rm = raster_to_json(line)"
   ]
  },
  {
   "cell_type": "code",
   "execution_count": null,
   "metadata": {},
   "outputs": [],
   "source": [
    "# info about output structure at https://github.com/sepidsh/Housegan-data-reader"
   ]
  },
  {
   "cell_type": "code",
   "execution_count": null,
   "metadata": {},
   "outputs": [],
   "source": []
  },
  {
   "cell_type": "markdown",
   "metadata": {},
   "source": [
    "## Model\n",
    "\n",
    "<ol>\n",
    "  <li>Input for training is json file constructed above</li>\n",
    "  <li>then</li>\n",
    "  <li>then</li>\n",
    "  <li>then</li>\n",
    "</ol>"
   ]
  },
  {
   "cell_type": "code",
   "execution_count": null,
   "metadata": {},
   "outputs": [],
   "source": []
  }
 ],
 "metadata": {
  "interpreter": {
   "hash": "ad2bdc8ecc057115af97d19610ffacc2b4e99fae6737bb82f5d7fb13d2f2c186"
  },
  "kernelspec": {
   "display_name": "Python 3.9.7 ('base')",
   "language": "python",
   "name": "python3"
  },
  "language_info": {
   "codemirror_mode": {
    "name": "ipython",
    "version": 3
   },
   "file_extension": ".py",
   "mimetype": "text/x-python",
   "name": "python",
   "nbconvert_exporter": "python",
   "pygments_lexer": "ipython3",
   "version": "3.9.7"
  },
  "orig_nbformat": 4
 },
 "nbformat": 4,
 "nbformat_minor": 2
}
